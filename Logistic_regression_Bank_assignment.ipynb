{
  "cells": [
    {
      "cell_type": "markdown",
      "id": "a7afc951",
      "metadata": {
        "id": "a7afc951"
      },
      "source": [
        "#Output variable -> y\n",
        "\n",
        "y -> Whether the client has subscribed a term deposit or not\n",
        "\n",
        "Binomial (\"yes\" or \"no\")"
      ]
    },
    {
      "cell_type": "code",
      "execution_count": null,
      "id": "d6aa3ef4",
      "metadata": {
        "id": "d6aa3ef4"
      },
      "outputs": [],
      "source": [
        "import pandas as pd\n",
        "import numpy as np\n",
        "\n",
        "import matplotlib.pyplot as plt\n",
        "import seaborn as sns\n",
        "\n",
        "%matplotlib inline\n",
        "\n",
        "from sklearn.model_selection import train_test_split\n",
        "from sklearn.linear_model import LogisticRegression\n",
        "\n",
        "#Calclate accuracy and confussion matrix\n",
        "import statsmodels.api as sm\n",
        "from sklearn import metrics\n",
        "\n",
        "import warnings\n",
        "warnings.filterwarnings(\"ignore\")"
      ]
    },
    {
      "cell_type": "code",
      "execution_count": null,
      "id": "e4074062",
      "metadata": {
        "id": "e4074062",
        "outputId": "bb153f71-9b36-41c6-d090-bb64cec97794"
      },
      "outputs": [
        {
          "data": {
            "text/html": [
              "<div>\n",
              "<style scoped>\n",
              "    .dataframe tbody tr th:only-of-type {\n",
              "        vertical-align: middle;\n",
              "    }\n",
              "\n",
              "    .dataframe tbody tr th {\n",
              "        vertical-align: top;\n",
              "    }\n",
              "\n",
              "    .dataframe thead th {\n",
              "        text-align: right;\n",
              "    }\n",
              "</style>\n",
              "<table border=\"1\" class=\"dataframe\">\n",
              "  <thead>\n",
              "    <tr style=\"text-align: right;\">\n",
              "      <th></th>\n",
              "      <th>age</th>\n",
              "      <th>job</th>\n",
              "      <th>marital</th>\n",
              "      <th>education</th>\n",
              "      <th>default</th>\n",
              "      <th>balance</th>\n",
              "      <th>housing</th>\n",
              "      <th>loan</th>\n",
              "      <th>contact</th>\n",
              "      <th>day</th>\n",
              "      <th>month</th>\n",
              "      <th>duration</th>\n",
              "      <th>campaign</th>\n",
              "      <th>pdays</th>\n",
              "      <th>previous</th>\n",
              "      <th>poutcome</th>\n",
              "      <th>y</th>\n",
              "    </tr>\n",
              "  </thead>\n",
              "  <tbody>\n",
              "    <tr>\n",
              "      <th>0</th>\n",
              "      <td>58</td>\n",
              "      <td>management</td>\n",
              "      <td>married</td>\n",
              "      <td>tertiary</td>\n",
              "      <td>no</td>\n",
              "      <td>2143</td>\n",
              "      <td>yes</td>\n",
              "      <td>no</td>\n",
              "      <td>unknown</td>\n",
              "      <td>5</td>\n",
              "      <td>may</td>\n",
              "      <td>261</td>\n",
              "      <td>1</td>\n",
              "      <td>-1</td>\n",
              "      <td>0</td>\n",
              "      <td>unknown</td>\n",
              "      <td>no</td>\n",
              "    </tr>\n",
              "    <tr>\n",
              "      <th>1</th>\n",
              "      <td>44</td>\n",
              "      <td>technician</td>\n",
              "      <td>single</td>\n",
              "      <td>secondary</td>\n",
              "      <td>no</td>\n",
              "      <td>29</td>\n",
              "      <td>yes</td>\n",
              "      <td>no</td>\n",
              "      <td>unknown</td>\n",
              "      <td>5</td>\n",
              "      <td>may</td>\n",
              "      <td>151</td>\n",
              "      <td>1</td>\n",
              "      <td>-1</td>\n",
              "      <td>0</td>\n",
              "      <td>unknown</td>\n",
              "      <td>no</td>\n",
              "    </tr>\n",
              "    <tr>\n",
              "      <th>2</th>\n",
              "      <td>33</td>\n",
              "      <td>entrepreneur</td>\n",
              "      <td>married</td>\n",
              "      <td>secondary</td>\n",
              "      <td>no</td>\n",
              "      <td>2</td>\n",
              "      <td>yes</td>\n",
              "      <td>yes</td>\n",
              "      <td>unknown</td>\n",
              "      <td>5</td>\n",
              "      <td>may</td>\n",
              "      <td>76</td>\n",
              "      <td>1</td>\n",
              "      <td>-1</td>\n",
              "      <td>0</td>\n",
              "      <td>unknown</td>\n",
              "      <td>no</td>\n",
              "    </tr>\n",
              "    <tr>\n",
              "      <th>3</th>\n",
              "      <td>47</td>\n",
              "      <td>blue-collar</td>\n",
              "      <td>married</td>\n",
              "      <td>unknown</td>\n",
              "      <td>no</td>\n",
              "      <td>1506</td>\n",
              "      <td>yes</td>\n",
              "      <td>no</td>\n",
              "      <td>unknown</td>\n",
              "      <td>5</td>\n",
              "      <td>may</td>\n",
              "      <td>92</td>\n",
              "      <td>1</td>\n",
              "      <td>-1</td>\n",
              "      <td>0</td>\n",
              "      <td>unknown</td>\n",
              "      <td>no</td>\n",
              "    </tr>\n",
              "    <tr>\n",
              "      <th>4</th>\n",
              "      <td>33</td>\n",
              "      <td>unknown</td>\n",
              "      <td>single</td>\n",
              "      <td>unknown</td>\n",
              "      <td>no</td>\n",
              "      <td>1</td>\n",
              "      <td>no</td>\n",
              "      <td>no</td>\n",
              "      <td>unknown</td>\n",
              "      <td>5</td>\n",
              "      <td>may</td>\n",
              "      <td>198</td>\n",
              "      <td>1</td>\n",
              "      <td>-1</td>\n",
              "      <td>0</td>\n",
              "      <td>unknown</td>\n",
              "      <td>no</td>\n",
              "    </tr>\n",
              "    <tr>\n",
              "      <th>5</th>\n",
              "      <td>35</td>\n",
              "      <td>management</td>\n",
              "      <td>married</td>\n",
              "      <td>tertiary</td>\n",
              "      <td>no</td>\n",
              "      <td>231</td>\n",
              "      <td>yes</td>\n",
              "      <td>no</td>\n",
              "      <td>unknown</td>\n",
              "      <td>5</td>\n",
              "      <td>may</td>\n",
              "      <td>139</td>\n",
              "      <td>1</td>\n",
              "      <td>-1</td>\n",
              "      <td>0</td>\n",
              "      <td>unknown</td>\n",
              "      <td>no</td>\n",
              "    </tr>\n",
              "    <tr>\n",
              "      <th>6</th>\n",
              "      <td>28</td>\n",
              "      <td>management</td>\n",
              "      <td>single</td>\n",
              "      <td>tertiary</td>\n",
              "      <td>no</td>\n",
              "      <td>447</td>\n",
              "      <td>yes</td>\n",
              "      <td>yes</td>\n",
              "      <td>unknown</td>\n",
              "      <td>5</td>\n",
              "      <td>may</td>\n",
              "      <td>217</td>\n",
              "      <td>1</td>\n",
              "      <td>-1</td>\n",
              "      <td>0</td>\n",
              "      <td>unknown</td>\n",
              "      <td>no</td>\n",
              "    </tr>\n",
              "    <tr>\n",
              "      <th>7</th>\n",
              "      <td>42</td>\n",
              "      <td>entrepreneur</td>\n",
              "      <td>divorced</td>\n",
              "      <td>tertiary</td>\n",
              "      <td>yes</td>\n",
              "      <td>2</td>\n",
              "      <td>yes</td>\n",
              "      <td>no</td>\n",
              "      <td>unknown</td>\n",
              "      <td>5</td>\n",
              "      <td>may</td>\n",
              "      <td>380</td>\n",
              "      <td>1</td>\n",
              "      <td>-1</td>\n",
              "      <td>0</td>\n",
              "      <td>unknown</td>\n",
              "      <td>no</td>\n",
              "    </tr>\n",
              "    <tr>\n",
              "      <th>8</th>\n",
              "      <td>58</td>\n",
              "      <td>retired</td>\n",
              "      <td>married</td>\n",
              "      <td>primary</td>\n",
              "      <td>no</td>\n",
              "      <td>121</td>\n",
              "      <td>yes</td>\n",
              "      <td>no</td>\n",
              "      <td>unknown</td>\n",
              "      <td>5</td>\n",
              "      <td>may</td>\n",
              "      <td>50</td>\n",
              "      <td>1</td>\n",
              "      <td>-1</td>\n",
              "      <td>0</td>\n",
              "      <td>unknown</td>\n",
              "      <td>no</td>\n",
              "    </tr>\n",
              "    <tr>\n",
              "      <th>9</th>\n",
              "      <td>43</td>\n",
              "      <td>technician</td>\n",
              "      <td>single</td>\n",
              "      <td>secondary</td>\n",
              "      <td>no</td>\n",
              "      <td>593</td>\n",
              "      <td>yes</td>\n",
              "      <td>no</td>\n",
              "      <td>unknown</td>\n",
              "      <td>5</td>\n",
              "      <td>may</td>\n",
              "      <td>55</td>\n",
              "      <td>1</td>\n",
              "      <td>-1</td>\n",
              "      <td>0</td>\n",
              "      <td>unknown</td>\n",
              "      <td>no</td>\n",
              "    </tr>\n",
              "  </tbody>\n",
              "</table>\n",
              "</div>"
            ],
            "text/plain": [
              "   age           job   marital  education default  balance housing loan  \\\n",
              "0   58    management   married   tertiary      no     2143     yes   no   \n",
              "1   44    technician    single  secondary      no       29     yes   no   \n",
              "2   33  entrepreneur   married  secondary      no        2     yes  yes   \n",
              "3   47   blue-collar   married    unknown      no     1506     yes   no   \n",
              "4   33       unknown    single    unknown      no        1      no   no   \n",
              "5   35    management   married   tertiary      no      231     yes   no   \n",
              "6   28    management    single   tertiary      no      447     yes  yes   \n",
              "7   42  entrepreneur  divorced   tertiary     yes        2     yes   no   \n",
              "8   58       retired   married    primary      no      121     yes   no   \n",
              "9   43    technician    single  secondary      no      593     yes   no   \n",
              "\n",
              "   contact  day month  duration  campaign  pdays  previous poutcome   y  \n",
              "0  unknown    5   may       261         1     -1         0  unknown  no  \n",
              "1  unknown    5   may       151         1     -1         0  unknown  no  \n",
              "2  unknown    5   may        76         1     -1         0  unknown  no  \n",
              "3  unknown    5   may        92         1     -1         0  unknown  no  \n",
              "4  unknown    5   may       198         1     -1         0  unknown  no  \n",
              "5  unknown    5   may       139         1     -1         0  unknown  no  \n",
              "6  unknown    5   may       217         1     -1         0  unknown  no  \n",
              "7  unknown    5   may       380         1     -1         0  unknown  no  \n",
              "8  unknown    5   may        50         1     -1         0  unknown  no  \n",
              "9  unknown    5   may        55         1     -1         0  unknown  no  "
            ]
          },
          "execution_count": 16,
          "metadata": {},
          "output_type": "execute_result"
        }
      ],
      "source": [
        "df = pd.read_csv(\"bank-full (1).csv\")\n",
        "df.head(10)"
      ]
    },
    {
      "cell_type": "code",
      "execution_count": null,
      "id": "0077d0f5",
      "metadata": {
        "id": "0077d0f5",
        "outputId": "2bc584f5-44f8-44ca-c35a-c7f17c110cb8"
      },
      "outputs": [
        {
          "data": {
            "text/html": [
              "<div>\n",
              "<style scoped>\n",
              "    .dataframe tbody tr th:only-of-type {\n",
              "        vertical-align: middle;\n",
              "    }\n",
              "\n",
              "    .dataframe tbody tr th {\n",
              "        vertical-align: top;\n",
              "    }\n",
              "\n",
              "    .dataframe thead th {\n",
              "        text-align: right;\n",
              "    }\n",
              "</style>\n",
              "<table border=\"1\" class=\"dataframe\">\n",
              "  <thead>\n",
              "    <tr style=\"text-align: right;\">\n",
              "      <th></th>\n",
              "      <th>age</th>\n",
              "      <th>job</th>\n",
              "      <th>marital</th>\n",
              "      <th>education</th>\n",
              "      <th>default</th>\n",
              "      <th>balance</th>\n",
              "      <th>housing</th>\n",
              "      <th>loan</th>\n",
              "      <th>contact</th>\n",
              "      <th>day</th>\n",
              "      <th>month</th>\n",
              "      <th>duration</th>\n",
              "      <th>campaign</th>\n",
              "      <th>pdays</th>\n",
              "      <th>previous</th>\n",
              "      <th>poutcome</th>\n",
              "      <th>y</th>\n",
              "    </tr>\n",
              "  </thead>\n",
              "  <tbody>\n",
              "    <tr>\n",
              "      <th>45201</th>\n",
              "      <td>53</td>\n",
              "      <td>management</td>\n",
              "      <td>married</td>\n",
              "      <td>tertiary</td>\n",
              "      <td>no</td>\n",
              "      <td>583</td>\n",
              "      <td>no</td>\n",
              "      <td>no</td>\n",
              "      <td>cellular</td>\n",
              "      <td>17</td>\n",
              "      <td>nov</td>\n",
              "      <td>226</td>\n",
              "      <td>1</td>\n",
              "      <td>184</td>\n",
              "      <td>4</td>\n",
              "      <td>success</td>\n",
              "      <td>yes</td>\n",
              "    </tr>\n",
              "    <tr>\n",
              "      <th>45202</th>\n",
              "      <td>34</td>\n",
              "      <td>admin.</td>\n",
              "      <td>single</td>\n",
              "      <td>secondary</td>\n",
              "      <td>no</td>\n",
              "      <td>557</td>\n",
              "      <td>no</td>\n",
              "      <td>no</td>\n",
              "      <td>cellular</td>\n",
              "      <td>17</td>\n",
              "      <td>nov</td>\n",
              "      <td>224</td>\n",
              "      <td>1</td>\n",
              "      <td>-1</td>\n",
              "      <td>0</td>\n",
              "      <td>unknown</td>\n",
              "      <td>yes</td>\n",
              "    </tr>\n",
              "    <tr>\n",
              "      <th>45203</th>\n",
              "      <td>23</td>\n",
              "      <td>student</td>\n",
              "      <td>single</td>\n",
              "      <td>tertiary</td>\n",
              "      <td>no</td>\n",
              "      <td>113</td>\n",
              "      <td>no</td>\n",
              "      <td>no</td>\n",
              "      <td>cellular</td>\n",
              "      <td>17</td>\n",
              "      <td>nov</td>\n",
              "      <td>266</td>\n",
              "      <td>1</td>\n",
              "      <td>-1</td>\n",
              "      <td>0</td>\n",
              "      <td>unknown</td>\n",
              "      <td>yes</td>\n",
              "    </tr>\n",
              "    <tr>\n",
              "      <th>45204</th>\n",
              "      <td>73</td>\n",
              "      <td>retired</td>\n",
              "      <td>married</td>\n",
              "      <td>secondary</td>\n",
              "      <td>no</td>\n",
              "      <td>2850</td>\n",
              "      <td>no</td>\n",
              "      <td>no</td>\n",
              "      <td>cellular</td>\n",
              "      <td>17</td>\n",
              "      <td>nov</td>\n",
              "      <td>300</td>\n",
              "      <td>1</td>\n",
              "      <td>40</td>\n",
              "      <td>8</td>\n",
              "      <td>failure</td>\n",
              "      <td>yes</td>\n",
              "    </tr>\n",
              "    <tr>\n",
              "      <th>45205</th>\n",
              "      <td>25</td>\n",
              "      <td>technician</td>\n",
              "      <td>single</td>\n",
              "      <td>secondary</td>\n",
              "      <td>no</td>\n",
              "      <td>505</td>\n",
              "      <td>no</td>\n",
              "      <td>yes</td>\n",
              "      <td>cellular</td>\n",
              "      <td>17</td>\n",
              "      <td>nov</td>\n",
              "      <td>386</td>\n",
              "      <td>2</td>\n",
              "      <td>-1</td>\n",
              "      <td>0</td>\n",
              "      <td>unknown</td>\n",
              "      <td>yes</td>\n",
              "    </tr>\n",
              "    <tr>\n",
              "      <th>45206</th>\n",
              "      <td>51</td>\n",
              "      <td>technician</td>\n",
              "      <td>married</td>\n",
              "      <td>tertiary</td>\n",
              "      <td>no</td>\n",
              "      <td>825</td>\n",
              "      <td>no</td>\n",
              "      <td>no</td>\n",
              "      <td>cellular</td>\n",
              "      <td>17</td>\n",
              "      <td>nov</td>\n",
              "      <td>977</td>\n",
              "      <td>3</td>\n",
              "      <td>-1</td>\n",
              "      <td>0</td>\n",
              "      <td>unknown</td>\n",
              "      <td>yes</td>\n",
              "    </tr>\n",
              "    <tr>\n",
              "      <th>45207</th>\n",
              "      <td>71</td>\n",
              "      <td>retired</td>\n",
              "      <td>divorced</td>\n",
              "      <td>primary</td>\n",
              "      <td>no</td>\n",
              "      <td>1729</td>\n",
              "      <td>no</td>\n",
              "      <td>no</td>\n",
              "      <td>cellular</td>\n",
              "      <td>17</td>\n",
              "      <td>nov</td>\n",
              "      <td>456</td>\n",
              "      <td>2</td>\n",
              "      <td>-1</td>\n",
              "      <td>0</td>\n",
              "      <td>unknown</td>\n",
              "      <td>yes</td>\n",
              "    </tr>\n",
              "    <tr>\n",
              "      <th>45208</th>\n",
              "      <td>72</td>\n",
              "      <td>retired</td>\n",
              "      <td>married</td>\n",
              "      <td>secondary</td>\n",
              "      <td>no</td>\n",
              "      <td>5715</td>\n",
              "      <td>no</td>\n",
              "      <td>no</td>\n",
              "      <td>cellular</td>\n",
              "      <td>17</td>\n",
              "      <td>nov</td>\n",
              "      <td>1127</td>\n",
              "      <td>5</td>\n",
              "      <td>184</td>\n",
              "      <td>3</td>\n",
              "      <td>success</td>\n",
              "      <td>yes</td>\n",
              "    </tr>\n",
              "    <tr>\n",
              "      <th>45209</th>\n",
              "      <td>57</td>\n",
              "      <td>blue-collar</td>\n",
              "      <td>married</td>\n",
              "      <td>secondary</td>\n",
              "      <td>no</td>\n",
              "      <td>668</td>\n",
              "      <td>no</td>\n",
              "      <td>no</td>\n",
              "      <td>telephone</td>\n",
              "      <td>17</td>\n",
              "      <td>nov</td>\n",
              "      <td>508</td>\n",
              "      <td>4</td>\n",
              "      <td>-1</td>\n",
              "      <td>0</td>\n",
              "      <td>unknown</td>\n",
              "      <td>no</td>\n",
              "    </tr>\n",
              "    <tr>\n",
              "      <th>45210</th>\n",
              "      <td>37</td>\n",
              "      <td>entrepreneur</td>\n",
              "      <td>married</td>\n",
              "      <td>secondary</td>\n",
              "      <td>no</td>\n",
              "      <td>2971</td>\n",
              "      <td>no</td>\n",
              "      <td>no</td>\n",
              "      <td>cellular</td>\n",
              "      <td>17</td>\n",
              "      <td>nov</td>\n",
              "      <td>361</td>\n",
              "      <td>2</td>\n",
              "      <td>188</td>\n",
              "      <td>11</td>\n",
              "      <td>other</td>\n",
              "      <td>no</td>\n",
              "    </tr>\n",
              "  </tbody>\n",
              "</table>\n",
              "</div>"
            ],
            "text/plain": [
              "       age           job   marital  education default  balance housing loan  \\\n",
              "45201   53    management   married   tertiary      no      583      no   no   \n",
              "45202   34        admin.    single  secondary      no      557      no   no   \n",
              "45203   23       student    single   tertiary      no      113      no   no   \n",
              "45204   73       retired   married  secondary      no     2850      no   no   \n",
              "45205   25    technician    single  secondary      no      505      no  yes   \n",
              "45206   51    technician   married   tertiary      no      825      no   no   \n",
              "45207   71       retired  divorced    primary      no     1729      no   no   \n",
              "45208   72       retired   married  secondary      no     5715      no   no   \n",
              "45209   57   blue-collar   married  secondary      no      668      no   no   \n",
              "45210   37  entrepreneur   married  secondary      no     2971      no   no   \n",
              "\n",
              "         contact  day month  duration  campaign  pdays  previous poutcome    y  \n",
              "45201   cellular   17   nov       226         1    184         4  success  yes  \n",
              "45202   cellular   17   nov       224         1     -1         0  unknown  yes  \n",
              "45203   cellular   17   nov       266         1     -1         0  unknown  yes  \n",
              "45204   cellular   17   nov       300         1     40         8  failure  yes  \n",
              "45205   cellular   17   nov       386         2     -1         0  unknown  yes  \n",
              "45206   cellular   17   nov       977         3     -1         0  unknown  yes  \n",
              "45207   cellular   17   nov       456         2     -1         0  unknown  yes  \n",
              "45208   cellular   17   nov      1127         5    184         3  success  yes  \n",
              "45209  telephone   17   nov       508         4     -1         0  unknown   no  \n",
              "45210   cellular   17   nov       361         2    188        11    other   no  "
            ]
          },
          "execution_count": 17,
          "metadata": {},
          "output_type": "execute_result"
        }
      ],
      "source": [
        "df.tail(10)"
      ]
    },
    {
      "cell_type": "code",
      "execution_count": null,
      "id": "31e0ebf7",
      "metadata": {
        "id": "31e0ebf7"
      },
      "outputs": [],
      "source": []
    },
    {
      "cell_type": "code",
      "execution_count": null,
      "id": "ba041985",
      "metadata": {
        "id": "ba041985",
        "outputId": "40bee40d-f303-4117-9db5-167b49c405ea"
      },
      "outputs": [
        {
          "name": "stdout",
          "output_type": "stream",
          "text": [
            "<class 'pandas.core.frame.DataFrame'>\n",
            "RangeIndex: 45211 entries, 0 to 45210\n",
            "Data columns (total 17 columns):\n",
            " #   Column     Non-Null Count  Dtype \n",
            "---  ------     --------------  ----- \n",
            " 0   age        45211 non-null  int64 \n",
            " 1   job        45211 non-null  object\n",
            " 2   marital    45211 non-null  object\n",
            " 3   education  45211 non-null  object\n",
            " 4   default    45211 non-null  object\n",
            " 5   balance    45211 non-null  int64 \n",
            " 6   housing    45211 non-null  object\n",
            " 7   loan       45211 non-null  object\n",
            " 8   contact    45211 non-null  object\n",
            " 9   day        45211 non-null  int64 \n",
            " 10  month      45211 non-null  object\n",
            " 11  duration   45211 non-null  int64 \n",
            " 12  campaign   45211 non-null  int64 \n",
            " 13  pdays      45211 non-null  int64 \n",
            " 14  previous   45211 non-null  int64 \n",
            " 15  poutcome   45211 non-null  object\n",
            " 16  y          45211 non-null  object\n",
            "dtypes: int64(7), object(10)\n",
            "memory usage: 5.9+ MB\n"
          ]
        }
      ],
      "source": [
        "df.info()"
      ]
    },
    {
      "cell_type": "code",
      "execution_count": null,
      "id": "dd96e890",
      "metadata": {
        "id": "dd96e890"
      },
      "outputs": [],
      "source": [
        "df.drop(['contact', 'day'],axis=1, inplace=True)"
      ]
    },
    {
      "cell_type": "code",
      "execution_count": null,
      "id": "a60d279d",
      "metadata": {
        "id": "a60d279d",
        "outputId": "c561b22b-f751-4899-a1de-9ffda7c4ddc3"
      },
      "outputs": [
        {
          "data": {
            "text/html": [
              "<div>\n",
              "<style scoped>\n",
              "    .dataframe tbody tr th:only-of-type {\n",
              "        vertical-align: middle;\n",
              "    }\n",
              "\n",
              "    .dataframe tbody tr th {\n",
              "        vertical-align: top;\n",
              "    }\n",
              "\n",
              "    .dataframe thead th {\n",
              "        text-align: right;\n",
              "    }\n",
              "</style>\n",
              "<table border=\"1\" class=\"dataframe\">\n",
              "  <thead>\n",
              "    <tr style=\"text-align: right;\">\n",
              "      <th></th>\n",
              "      <th>age</th>\n",
              "      <th>job</th>\n",
              "      <th>marital</th>\n",
              "      <th>education</th>\n",
              "      <th>default</th>\n",
              "      <th>balance</th>\n",
              "      <th>housing</th>\n",
              "      <th>loan</th>\n",
              "      <th>month</th>\n",
              "      <th>duration</th>\n",
              "      <th>campaign</th>\n",
              "      <th>pdays</th>\n",
              "      <th>previous</th>\n",
              "      <th>poutcome</th>\n",
              "      <th>y</th>\n",
              "    </tr>\n",
              "  </thead>\n",
              "  <tbody>\n",
              "    <tr>\n",
              "      <th>0</th>\n",
              "      <td>58</td>\n",
              "      <td>management</td>\n",
              "      <td>married</td>\n",
              "      <td>tertiary</td>\n",
              "      <td>no</td>\n",
              "      <td>2143</td>\n",
              "      <td>yes</td>\n",
              "      <td>no</td>\n",
              "      <td>may</td>\n",
              "      <td>261</td>\n",
              "      <td>1</td>\n",
              "      <td>-1</td>\n",
              "      <td>0</td>\n",
              "      <td>unknown</td>\n",
              "      <td>no</td>\n",
              "    </tr>\n",
              "    <tr>\n",
              "      <th>1</th>\n",
              "      <td>44</td>\n",
              "      <td>technician</td>\n",
              "      <td>single</td>\n",
              "      <td>secondary</td>\n",
              "      <td>no</td>\n",
              "      <td>29</td>\n",
              "      <td>yes</td>\n",
              "      <td>no</td>\n",
              "      <td>may</td>\n",
              "      <td>151</td>\n",
              "      <td>1</td>\n",
              "      <td>-1</td>\n",
              "      <td>0</td>\n",
              "      <td>unknown</td>\n",
              "      <td>no</td>\n",
              "    </tr>\n",
              "  </tbody>\n",
              "</table>\n",
              "</div>"
            ],
            "text/plain": [
              "   age         job  marital  education default  balance housing loan month  \\\n",
              "0   58  management  married   tertiary      no     2143     yes   no   may   \n",
              "1   44  technician   single  secondary      no       29     yes   no   may   \n",
              "\n",
              "   duration  campaign  pdays  previous poutcome   y  \n",
              "0       261         1     -1         0  unknown  no  \n",
              "1       151         1     -1         0  unknown  no  "
            ]
          },
          "execution_count": 19,
          "metadata": {},
          "output_type": "execute_result"
        }
      ],
      "source": [
        "df.head(2)"
      ]
    },
    {
      "cell_type": "code",
      "execution_count": null,
      "id": "8a083082",
      "metadata": {
        "id": "8a083082",
        "outputId": "146f46f9-60b2-41c4-f8f1-97f77bbb1899"
      },
      "outputs": [
        {
          "data": {
            "text/plain": [
              "blue-collar      9732\n",
              "management       9458\n",
              "technician       7597\n",
              "admin.           5171\n",
              "services         4154\n",
              "retired          2264\n",
              "self-employed    1579\n",
              "entrepreneur     1487\n",
              "unemployed       1303\n",
              "housemaid        1240\n",
              "student           938\n",
              "unknown           288\n",
              "Name: job, dtype: int64"
            ]
          },
          "execution_count": 20,
          "metadata": {},
          "output_type": "execute_result"
        }
      ],
      "source": [
        "df['job'].value_counts()"
      ]
    },
    {
      "cell_type": "code",
      "execution_count": null,
      "id": "04032ad9",
      "metadata": {
        "id": "04032ad9",
        "outputId": "a2cd3ac8-4f64-45cc-ec57-69ecb59806d8"
      },
      "outputs": [
        {
          "data": {
            "text/plain": [
              "married     27214\n",
              "single      12790\n",
              "divorced     5207\n",
              "Name: marital, dtype: int64"
            ]
          },
          "execution_count": 23,
          "metadata": {},
          "output_type": "execute_result"
        }
      ],
      "source": [
        "df['marital'].value_counts()"
      ]
    },
    {
      "cell_type": "code",
      "execution_count": null,
      "id": "f883da3a",
      "metadata": {
        "id": "f883da3a",
        "outputId": "4ec9f736-faeb-4f8d-9ec2-f87ec6ba90c3"
      },
      "outputs": [
        {
          "data": {
            "text/plain": [
              "secondary    23202\n",
              "tertiary     13301\n",
              "primary       6851\n",
              "unknown       1857\n",
              "Name: education, dtype: int64"
            ]
          },
          "execution_count": 24,
          "metadata": {},
          "output_type": "execute_result"
        }
      ],
      "source": [
        "df['education'].value_counts()"
      ]
    },
    {
      "cell_type": "code",
      "execution_count": null,
      "id": "ee3fde41",
      "metadata": {
        "id": "ee3fde41",
        "outputId": "cfe75828-7486-40cb-cb11-f74a8bdca83e"
      },
      "outputs": [
        {
          "data": {
            "text/plain": [
              "no     44396\n",
              "yes      815\n",
              "Name: default, dtype: int64"
            ]
          },
          "execution_count": 25,
          "metadata": {},
          "output_type": "execute_result"
        }
      ],
      "source": [
        "df['default'].value_counts()"
      ]
    },
    {
      "cell_type": "code",
      "execution_count": null,
      "id": "7b9c7dc9",
      "metadata": {
        "id": "7b9c7dc9",
        "outputId": "378c1c14-4be8-4f62-a72c-0b9f7cc5dc70"
      },
      "outputs": [
        {
          "data": {
            "text/plain": [
              "yes    25130\n",
              "no     20081\n",
              "Name: housing, dtype: int64"
            ]
          },
          "execution_count": 26,
          "metadata": {},
          "output_type": "execute_result"
        }
      ],
      "source": [
        "df['housing'].value_counts()"
      ]
    },
    {
      "cell_type": "code",
      "execution_count": null,
      "id": "026643d9",
      "metadata": {
        "id": "026643d9",
        "outputId": "f07ac11d-e307-420b-eb62-8e4a9c3bf91f"
      },
      "outputs": [
        {
          "data": {
            "text/plain": [
              "may    13766\n",
              "jul     6895\n",
              "aug     6247\n",
              "jun     5341\n",
              "nov     3970\n",
              "apr     2932\n",
              "feb     2649\n",
              "jan     1403\n",
              "oct      738\n",
              "sep      579\n",
              "mar      477\n",
              "dec      214\n",
              "Name: month, dtype: int64"
            ]
          },
          "execution_count": 28,
          "metadata": {},
          "output_type": "execute_result"
        }
      ],
      "source": [
        "df['month'].value_counts()"
      ]
    },
    {
      "cell_type": "code",
      "execution_count": null,
      "id": "f06423a6",
      "metadata": {
        "id": "f06423a6",
        "outputId": "de08130f-eef3-4ce5-e7b4-b18340fe6389"
      },
      "outputs": [
        {
          "data": {
            "text/plain": [
              "unknown    36959\n",
              "failure     4901\n",
              "other       1840\n",
              "success     1511\n",
              "Name: poutcome, dtype: int64"
            ]
          },
          "execution_count": 33,
          "metadata": {},
          "output_type": "execute_result"
        }
      ],
      "source": [
        "df['poutcome'].value_counts()"
      ]
    },
    {
      "cell_type": "code",
      "execution_count": null,
      "id": "78f20b8b",
      "metadata": {
        "id": "78f20b8b",
        "outputId": "188c6f63-7d8c-4be7-f0a7-cdbf2de9222a"
      },
      "outputs": [
        {
          "data": {
            "text/plain": [
              "no     39922\n",
              "yes     5289\n",
              "Name: y, dtype: int64"
            ]
          },
          "execution_count": 34,
          "metadata": {},
          "output_type": "execute_result"
        }
      ],
      "source": [
        "df['y'].value_counts()"
      ]
    },
    {
      "cell_type": "code",
      "execution_count": null,
      "id": "099906b5",
      "metadata": {
        "id": "099906b5"
      },
      "outputs": [],
      "source": [
        "df['housing']=df['housing'].astype('category')\n",
        "df['housing']=df['housing'].cat.codes"
      ]
    },
    {
      "cell_type": "code",
      "execution_count": null,
      "id": "f7d38b31",
      "metadata": {
        "id": "f7d38b31"
      },
      "outputs": [],
      "source": [
        "df['marital']=df['marital'].astype('category')\n",
        "df['marital']=df['marital'].cat.codes"
      ]
    },
    {
      "cell_type": "code",
      "execution_count": null,
      "id": "d33ef8cf",
      "metadata": {
        "id": "d33ef8cf"
      },
      "outputs": [],
      "source": [
        "df['education']=df['education'].astype('category')\n",
        "df['education']=df['education'].cat.codes"
      ]
    },
    {
      "cell_type": "code",
      "execution_count": null,
      "id": "364ccf98",
      "metadata": {
        "id": "364ccf98"
      },
      "outputs": [],
      "source": [
        "df['default']=df['default'].astype('category')\n",
        "df['default']=df['default'].cat.codes"
      ]
    },
    {
      "cell_type": "code",
      "execution_count": null,
      "id": "53b0ccf5",
      "metadata": {
        "id": "53b0ccf5"
      },
      "outputs": [],
      "source": [
        "df['loan']=df['loan'].astype('category')\n",
        "df['loan']=df['loan'].cat.codes"
      ]
    },
    {
      "cell_type": "code",
      "execution_count": null,
      "id": "45dbbc3b",
      "metadata": {
        "id": "45dbbc3b"
      },
      "outputs": [],
      "source": [
        "df['poutcome']=df['poutcome'].astype('category')\n",
        "df['poutcome']=df['poutcome'].cat.codes"
      ]
    },
    {
      "cell_type": "code",
      "execution_count": null,
      "id": "5e7f490b",
      "metadata": {
        "id": "5e7f490b"
      },
      "outputs": [],
      "source": [
        "df['y']=df['y'].astype('category')\n",
        "df['y']=df['y'].cat.codes"
      ]
    },
    {
      "cell_type": "code",
      "execution_count": null,
      "id": "b2715c65",
      "metadata": {
        "id": "b2715c65"
      },
      "outputs": [],
      "source": [
        "df['job']=df['job'].astype('category')\n",
        "df['job']=df['job'].cat.codes"
      ]
    },
    {
      "cell_type": "code",
      "execution_count": null,
      "id": "337618fd",
      "metadata": {
        "id": "337618fd"
      },
      "outputs": [],
      "source": [
        "df['month']=df['month'].astype('category')\n",
        "df['month']=df['month'].cat.codes"
      ]
    },
    {
      "cell_type": "code",
      "execution_count": null,
      "id": "6eddb590",
      "metadata": {
        "id": "6eddb590",
        "outputId": "d1db5a77-99eb-45ce-a94a-5e2a17559a57"
      },
      "outputs": [
        {
          "data": {
            "text/html": [
              "<div>\n",
              "<style scoped>\n",
              "    .dataframe tbody tr th:only-of-type {\n",
              "        vertical-align: middle;\n",
              "    }\n",
              "\n",
              "    .dataframe tbody tr th {\n",
              "        vertical-align: top;\n",
              "    }\n",
              "\n",
              "    .dataframe thead th {\n",
              "        text-align: right;\n",
              "    }\n",
              "</style>\n",
              "<table border=\"1\" class=\"dataframe\">\n",
              "  <thead>\n",
              "    <tr style=\"text-align: right;\">\n",
              "      <th></th>\n",
              "      <th>age</th>\n",
              "      <th>marital</th>\n",
              "      <th>education</th>\n",
              "      <th>default</th>\n",
              "      <th>balance</th>\n",
              "      <th>housing</th>\n",
              "      <th>loan</th>\n",
              "      <th>month</th>\n",
              "      <th>duration</th>\n",
              "      <th>campaign</th>\n",
              "      <th>pdays</th>\n",
              "      <th>previous</th>\n",
              "      <th>poutcome</th>\n",
              "      <th>y</th>\n",
              "    </tr>\n",
              "  </thead>\n",
              "  <tbody>\n",
              "    <tr>\n",
              "      <th>0</th>\n",
              "      <td>58</td>\n",
              "      <td>1</td>\n",
              "      <td>2</td>\n",
              "      <td>0</td>\n",
              "      <td>2143</td>\n",
              "      <td>1</td>\n",
              "      <td>0</td>\n",
              "      <td>8</td>\n",
              "      <td>261</td>\n",
              "      <td>1</td>\n",
              "      <td>-1</td>\n",
              "      <td>0</td>\n",
              "      <td>3</td>\n",
              "      <td>0</td>\n",
              "    </tr>\n",
              "    <tr>\n",
              "      <th>1</th>\n",
              "      <td>44</td>\n",
              "      <td>2</td>\n",
              "      <td>1</td>\n",
              "      <td>0</td>\n",
              "      <td>29</td>\n",
              "      <td>1</td>\n",
              "      <td>0</td>\n",
              "      <td>8</td>\n",
              "      <td>151</td>\n",
              "      <td>1</td>\n",
              "      <td>-1</td>\n",
              "      <td>0</td>\n",
              "      <td>3</td>\n",
              "      <td>0</td>\n",
              "    </tr>\n",
              "    <tr>\n",
              "      <th>2</th>\n",
              "      <td>33</td>\n",
              "      <td>1</td>\n",
              "      <td>1</td>\n",
              "      <td>0</td>\n",
              "      <td>2</td>\n",
              "      <td>1</td>\n",
              "      <td>1</td>\n",
              "      <td>8</td>\n",
              "      <td>76</td>\n",
              "      <td>1</td>\n",
              "      <td>-1</td>\n",
              "      <td>0</td>\n",
              "      <td>3</td>\n",
              "      <td>0</td>\n",
              "    </tr>\n",
              "    <tr>\n",
              "      <th>3</th>\n",
              "      <td>47</td>\n",
              "      <td>1</td>\n",
              "      <td>3</td>\n",
              "      <td>0</td>\n",
              "      <td>1506</td>\n",
              "      <td>1</td>\n",
              "      <td>0</td>\n",
              "      <td>8</td>\n",
              "      <td>92</td>\n",
              "      <td>1</td>\n",
              "      <td>-1</td>\n",
              "      <td>0</td>\n",
              "      <td>3</td>\n",
              "      <td>0</td>\n",
              "    </tr>\n",
              "    <tr>\n",
              "      <th>4</th>\n",
              "      <td>33</td>\n",
              "      <td>2</td>\n",
              "      <td>3</td>\n",
              "      <td>0</td>\n",
              "      <td>1</td>\n",
              "      <td>0</td>\n",
              "      <td>0</td>\n",
              "      <td>8</td>\n",
              "      <td>198</td>\n",
              "      <td>1</td>\n",
              "      <td>-1</td>\n",
              "      <td>0</td>\n",
              "      <td>3</td>\n",
              "      <td>0</td>\n",
              "    </tr>\n",
              "  </tbody>\n",
              "</table>\n",
              "</div>"
            ],
            "text/plain": [
              "   age  marital  education  default  balance  housing  loan  month  duration  \\\n",
              "0   58        1          2        0     2143        1     0      8       261   \n",
              "1   44        2          1        0       29        1     0      8       151   \n",
              "2   33        1          1        0        2        1     1      8        76   \n",
              "3   47        1          3        0     1506        1     0      8        92   \n",
              "4   33        2          3        0        1        0     0      8       198   \n",
              "\n",
              "   campaign  pdays  previous  poutcome  y  \n",
              "0         1     -1         0         3  0  \n",
              "1         1     -1         0         3  0  \n",
              "2         1     -1         0         3  0  \n",
              "3         1     -1         0         3  0  \n",
              "4         1     -1         0         3  0  "
            ]
          },
          "execution_count": 112,
          "metadata": {},
          "output_type": "execute_result"
        }
      ],
      "source": [
        "df.head()"
      ]
    },
    {
      "cell_type": "markdown",
      "id": "48303576",
      "metadata": {
        "id": "48303576"
      },
      "source": [
        "# Exploratory Data Analysis"
      ]
    },
    {
      "cell_type": "code",
      "execution_count": null,
      "id": "aca5a800",
      "metadata": {
        "id": "aca5a800",
        "outputId": "961534f1-f8cf-4452-c39e-d613828afce4"
      },
      "outputs": [
        {
          "data": {
            "text/plain": [
              "Index(['age', 'job', 'marital', 'education', 'default', 'balance', 'housing',\n",
              "       'loan', 'month', 'duration', 'campaign', 'pdays', 'previous',\n",
              "       'poutcome', 'y'],\n",
              "      dtype='object')"
            ]
          },
          "execution_count": 47,
          "metadata": {},
          "output_type": "execute_result"
        }
      ],
      "source": [
        "df.columns"
      ]
    },
    {
      "cell_type": "code",
      "execution_count": null,
      "id": "5756d608",
      "metadata": {
        "id": "5756d608",
        "outputId": "50511a6e-58b9-4140-855b-f9af77cde1b0"
      },
      "outputs": [
        {
          "data": {
            "text/plain": [
              "<Axes: xlabel='y', ylabel='age'>"
            ]
          },
          "execution_count": 49,
          "metadata": {},
          "output_type": "execute_result"
        },
        {
          "data": {
            "image/png": "[encoded data removed]",
            "text/plain": [
              "<Figure size 640x480 with 1 Axes>"
            ]
          },
          "metadata": {},
          "output_type": "display_data"
        }
      ],
      "source": [
        "sns.boxplot(x=df['y'],y=df['age'])"
      ]
    },
    {
      "cell_type": "code",
      "execution_count": null,
      "id": "564be195",
      "metadata": {
        "id": "564be195"
      },
      "outputs": [],
      "source": [
        "pd.crosstab(index=df['Gender'],\n",
        "           columns=df['Target'],\n",
        "           values = df['Target'],\n",
        "           aggfunc='count')"
      ]
    },
    {
      "cell_type": "code",
      "execution_count": null,
      "id": "d7eaf0bc",
      "metadata": {
        "id": "d7eaf0bc",
        "outputId": "72ea7018-b246-4c86-8c42-d7bac432f7ea"
      },
      "outputs": [
        {
          "data": {
            "text/plain": [
              "<Axes: xlabel='y', ylabel='job'>"
            ]
          },
          "execution_count": 50,
          "metadata": {},
          "output_type": "execute_result"
        },
        {
          "data": {
            "image/png": "[encoded data removed]",
            "text/plain": [
              "<Figure size 640x480 with 1 Axes>"
            ]
          },
          "metadata": {},
          "output_type": "display_data"
        }
      ],
      "source": [
        "sns.boxplot(x=df['y'],y=df['job'])"
      ]
    },
    {
      "cell_type": "code",
      "execution_count": null,
      "id": "dc927fb0",
      "metadata": {
        "id": "dc927fb0",
        "outputId": "dc996422-d25f-4fe5-d514-22aca1bd491f"
      },
      "outputs": [
        {
          "data": {
            "text/html": [
              "<div>\n",
              "<style scoped>\n",
              "    .dataframe tbody tr th:only-of-type {\n",
              "        vertical-align: middle;\n",
              "    }\n",
              "\n",
              "    .dataframe tbody tr th {\n",
              "        vertical-align: top;\n",
              "    }\n",
              "\n",
              "    .dataframe thead th {\n",
              "        text-align: right;\n",
              "    }\n",
              "</style>\n",
              "<table border=\"1\" class=\"dataframe\">\n",
              "  <thead>\n",
              "    <tr style=\"text-align: right;\">\n",
              "      <th>y</th>\n",
              "      <th>0</th>\n",
              "      <th>1</th>\n",
              "    </tr>\n",
              "    <tr>\n",
              "      <th>job</th>\n",
              "      <th></th>\n",
              "      <th></th>\n",
              "    </tr>\n",
              "  </thead>\n",
              "  <tbody>\n",
              "    <tr>\n",
              "      <th>0</th>\n",
              "      <td>0.878</td>\n",
              "      <td>0.122</td>\n",
              "    </tr>\n",
              "    <tr>\n",
              "      <th>1</th>\n",
              "      <td>0.927</td>\n",
              "      <td>0.073</td>\n",
              "    </tr>\n",
              "    <tr>\n",
              "      <th>2</th>\n",
              "      <td>0.917</td>\n",
              "      <td>0.083</td>\n",
              "    </tr>\n",
              "    <tr>\n",
              "      <th>3</th>\n",
              "      <td>0.912</td>\n",
              "      <td>0.088</td>\n",
              "    </tr>\n",
              "    <tr>\n",
              "      <th>4</th>\n",
              "      <td>0.862</td>\n",
              "      <td>0.138</td>\n",
              "    </tr>\n",
              "    <tr>\n",
              "      <th>5</th>\n",
              "      <td>0.772</td>\n",
              "      <td>0.228</td>\n",
              "    </tr>\n",
              "    <tr>\n",
              "      <th>6</th>\n",
              "      <td>0.882</td>\n",
              "      <td>0.118</td>\n",
              "    </tr>\n",
              "    <tr>\n",
              "      <th>7</th>\n",
              "      <td>0.911</td>\n",
              "      <td>0.089</td>\n",
              "    </tr>\n",
              "    <tr>\n",
              "      <th>8</th>\n",
              "      <td>0.713</td>\n",
              "      <td>0.287</td>\n",
              "    </tr>\n",
              "    <tr>\n",
              "      <th>9</th>\n",
              "      <td>0.889</td>\n",
              "      <td>0.111</td>\n",
              "    </tr>\n",
              "    <tr>\n",
              "      <th>10</th>\n",
              "      <td>0.845</td>\n",
              "      <td>0.155</td>\n",
              "    </tr>\n",
              "    <tr>\n",
              "      <th>11</th>\n",
              "      <td>0.882</td>\n",
              "      <td>0.118</td>\n",
              "    </tr>\n",
              "  </tbody>\n",
              "</table>\n",
              "</div>"
            ],
            "text/plain": [
              "y        0      1\n",
              "job              \n",
              "0    0.878  0.122\n",
              "1    0.927  0.073\n",
              "2    0.917  0.083\n",
              "3    0.912  0.088\n",
              "4    0.862  0.138\n",
              "5    0.772  0.228\n",
              "6    0.882  0.118\n",
              "7    0.911  0.089\n",
              "8    0.713  0.287\n",
              "9    0.889  0.111\n",
              "10   0.845  0.155\n",
              "11   0.882  0.118"
            ]
          },
          "execution_count": 52,
          "metadata": {},
          "output_type": "execute_result"
        }
      ],
      "source": [
        "ct_job = pd.crosstab(index=df['job'],\n",
        "           columns=df['y'],\n",
        "           values=df['y'],\n",
        "           aggfunc='count',\n",
        "        normalize='index').round(3)\n",
        "ct_job"
      ]
    },
    {
      "cell_type": "code",
      "execution_count": null,
      "id": "bf01714e",
      "metadata": {
        "id": "bf01714e",
        "outputId": "ebd5db8a-7186-405d-b37d-9bd7db81b546"
      },
      "outputs": [
        {
          "data": {
            "text/plain": [
              "<Axes: xlabel='marital', ylabel='y'>"
            ]
          },
          "execution_count": 54,
          "metadata": {},
          "output_type": "execute_result"
        },
        {
          "data": {
            "image/png": "[encoded data removed]",
            "text/plain": [
              "<Figure size 640x480 with 1 Axes>"
            ]
          },
          "metadata": {},
          "output_type": "display_data"
        }
      ],
      "source": [
        "sns.boxplot(x=df['marital'],y=df['y'])"
      ]
    },
    {
      "cell_type": "code",
      "execution_count": null,
      "id": "e0a98897",
      "metadata": {
        "id": "e0a98897",
        "outputId": "69f265f0-b622-4234-abe2-ec1f437fc68a"
      },
      "outputs": [
        {
          "data": {
            "text/html": [
              "<div>\n",
              "<style scoped>\n",
              "    .dataframe tbody tr th:only-of-type {\n",
              "        vertical-align: middle;\n",
              "    }\n",
              "\n",
              "    .dataframe tbody tr th {\n",
              "        vertical-align: top;\n",
              "    }\n",
              "\n",
              "    .dataframe thead th {\n",
              "        text-align: right;\n",
              "    }\n",
              "</style>\n",
              "<table border=\"1\" class=\"dataframe\">\n",
              "  <thead>\n",
              "    <tr style=\"text-align: right;\">\n",
              "      <th>y</th>\n",
              "      <th>0</th>\n",
              "      <th>1</th>\n",
              "    </tr>\n",
              "    <tr>\n",
              "      <th>marital</th>\n",
              "      <th></th>\n",
              "      <th></th>\n",
              "    </tr>\n",
              "  </thead>\n",
              "  <tbody>\n",
              "    <tr>\n",
              "      <th>0</th>\n",
              "      <td>0.881</td>\n",
              "      <td>0.119</td>\n",
              "    </tr>\n",
              "    <tr>\n",
              "      <th>1</th>\n",
              "      <td>0.899</td>\n",
              "      <td>0.101</td>\n",
              "    </tr>\n",
              "    <tr>\n",
              "      <th>2</th>\n",
              "      <td>0.851</td>\n",
              "      <td>0.149</td>\n",
              "    </tr>\n",
              "  </tbody>\n",
              "</table>\n",
              "</div>"
            ],
            "text/plain": [
              "y            0      1\n",
              "marital              \n",
              "0        0.881  0.119\n",
              "1        0.899  0.101\n",
              "2        0.851  0.149"
            ]
          },
          "execution_count": 57,
          "metadata": {},
          "output_type": "execute_result"
        }
      ],
      "source": [
        "ct_marital= pd.crosstab(index=df['marital'],\n",
        "           columns=df['y'],\n",
        "           values=df['y'],\n",
        "           aggfunc='count',\n",
        "        normalize='index').round(3)\n",
        "ct_marital"
      ]
    },
    {
      "cell_type": "code",
      "execution_count": null,
      "id": "33c96a69",
      "metadata": {
        "id": "33c96a69",
        "outputId": "bede02bb-c34e-4b8c-da98-ea5ef27b07ab"
      },
      "outputs": [
        {
          "data": {
            "text/plain": [
              "<Axes: xlabel='marital'>"
            ]
          },
          "execution_count": 58,
          "metadata": {},
          "output_type": "execute_result"
        },
        {
          "data": {
            "image/png": "[encoded data removed]",
            "text/plain": [
              "<Figure size 640x480 with 1 Axes>"
            ]
          },
          "metadata": {},
          "output_type": "display_data"
        }
      ],
      "source": [
        "ct_marital.plot(kind='bar',stacked=True)"
      ]
    },
    {
      "cell_type": "code",
      "execution_count": null,
      "id": "8d1a3aff",
      "metadata": {
        "id": "8d1a3aff",
        "outputId": "e0192324-9bc2-4028-a878-0cd3e6fbef4a"
      },
      "outputs": [
        {
          "data": {
            "text/html": [
              "<div>\n",
              "<style scoped>\n",
              "    .dataframe tbody tr th:only-of-type {\n",
              "        vertical-align: middle;\n",
              "    }\n",
              "\n",
              "    .dataframe tbody tr th {\n",
              "        vertical-align: top;\n",
              "    }\n",
              "\n",
              "    .dataframe thead th {\n",
              "        text-align: right;\n",
              "    }\n",
              "</style>\n",
              "<table border=\"1\" class=\"dataframe\">\n",
              "  <thead>\n",
              "    <tr style=\"text-align: right;\">\n",
              "      <th>y</th>\n",
              "      <th>0</th>\n",
              "      <th>1</th>\n",
              "    </tr>\n",
              "    <tr>\n",
              "      <th>education</th>\n",
              "      <th></th>\n",
              "      <th></th>\n",
              "    </tr>\n",
              "  </thead>\n",
              "  <tbody>\n",
              "    <tr>\n",
              "      <th>0</th>\n",
              "      <td>0.914</td>\n",
              "      <td>0.086</td>\n",
              "    </tr>\n",
              "    <tr>\n",
              "      <th>1</th>\n",
              "      <td>0.894</td>\n",
              "      <td>0.106</td>\n",
              "    </tr>\n",
              "    <tr>\n",
              "      <th>2</th>\n",
              "      <td>0.850</td>\n",
              "      <td>0.150</td>\n",
              "    </tr>\n",
              "    <tr>\n",
              "      <th>3</th>\n",
              "      <td>0.864</td>\n",
              "      <td>0.136</td>\n",
              "    </tr>\n",
              "  </tbody>\n",
              "</table>\n",
              "</div>"
            ],
            "text/plain": [
              "y              0      1\n",
              "education              \n",
              "0          0.914  0.086\n",
              "1          0.894  0.106\n",
              "2          0.850  0.150\n",
              "3          0.864  0.136"
            ]
          },
          "execution_count": 59,
          "metadata": {},
          "output_type": "execute_result"
        }
      ],
      "source": [
        "ct_eud= pd.crosstab(index=df['education'],\n",
        "           columns=df['y'],\n",
        "           values=df['y'],\n",
        "           aggfunc='count',\n",
        "        normalize='index').round(3)\n",
        "ct_eud"
      ]
    },
    {
      "cell_type": "code",
      "execution_count": null,
      "id": "17d3c918",
      "metadata": {
        "id": "17d3c918",
        "outputId": "7fb57ae1-9277-4be9-a199-7f2871f64d29"
      },
      "outputs": [
        {
          "data": {
            "text/plain": [
              "<Axes: xlabel='education'>"
            ]
          },
          "execution_count": 60,
          "metadata": {},
          "output_type": "execute_result"
        },
        {
          "data": {
            "image/png": "[encoded data removed]",
            "text/plain": [
              "<Figure size 640x480 with 1 Axes>"
            ]
          },
          "metadata": {},
          "output_type": "display_data"
        }
      ],
      "source": [
        "ct_eud.plot(kind='bar',stacked=True)"
      ]
    },
    {
      "cell_type": "code",
      "execution_count": null,
      "id": "345661ec",
      "metadata": {
        "id": "345661ec",
        "outputId": "c8036962-c732-4f6a-9d4c-3eed38682096"
      },
      "outputs": [
        {
          "data": {
            "text/html": [
              "<div>\n",
              "<style scoped>\n",
              "    .dataframe tbody tr th:only-of-type {\n",
              "        vertical-align: middle;\n",
              "    }\n",
              "\n",
              "    .dataframe tbody tr th {\n",
              "        vertical-align: top;\n",
              "    }\n",
              "\n",
              "    .dataframe thead th {\n",
              "        text-align: right;\n",
              "    }\n",
              "</style>\n",
              "<table border=\"1\" class=\"dataframe\">\n",
              "  <thead>\n",
              "    <tr style=\"text-align: right;\">\n",
              "      <th>y</th>\n",
              "      <th>0</th>\n",
              "      <th>1</th>\n",
              "    </tr>\n",
              "    <tr>\n",
              "      <th>default</th>\n",
              "      <th></th>\n",
              "      <th></th>\n",
              "    </tr>\n",
              "  </thead>\n",
              "  <tbody>\n",
              "    <tr>\n",
              "      <th>0</th>\n",
              "      <td>0.882</td>\n",
              "      <td>0.118</td>\n",
              "    </tr>\n",
              "    <tr>\n",
              "      <th>1</th>\n",
              "      <td>0.936</td>\n",
              "      <td>0.064</td>\n",
              "    </tr>\n",
              "  </tbody>\n",
              "</table>\n",
              "</div>"
            ],
            "text/plain": [
              "y            0      1\n",
              "default              \n",
              "0        0.882  0.118\n",
              "1        0.936  0.064"
            ]
          },
          "execution_count": 62,
          "metadata": {},
          "output_type": "execute_result"
        }
      ],
      "source": [
        "ct_def= pd.crosstab(index=df['default'],\n",
        "           columns=df['y'],\n",
        "           values=df['y'],\n",
        "           aggfunc='count',\n",
        "        normalize='index').round(3)\n",
        "ct_def"
      ]
    },
    {
      "cell_type": "code",
      "execution_count": null,
      "id": "6188f86b",
      "metadata": {
        "id": "6188f86b",
        "outputId": "ffa78bf9-4b74-414e-9c1e-4a16f7e5d2a9"
      },
      "outputs": [
        {
          "data": {
            "text/plain": [
              "<Axes: xlabel='default'>"
            ]
          },
          "execution_count": 63,
          "metadata": {},
          "output_type": "execute_result"
        },
        {
          "data": {
            "image/png": "[encoded data removed]",
            "text/plain": [
              "<Figure size 640x480 with 1 Axes>"
            ]
          },
          "metadata": {},
          "output_type": "display_data"
        }
      ],
      "source": [
        "ct_def.plot(kind='bar',stacked=True)"
      ]
    },
    {
      "cell_type": "code",
      "execution_count": null,
      "id": "5f2591b5",
      "metadata": {
        "id": "5f2591b5",
        "outputId": "76aaafd2-95a8-4c05-b26d-3bf1b79829d5"
      },
      "outputs": [
        {
          "data": {
            "text/html": [
              "<div>\n",
              "<style scoped>\n",
              "    .dataframe tbody tr th:only-of-type {\n",
              "        vertical-align: middle;\n",
              "    }\n",
              "\n",
              "    .dataframe tbody tr th {\n",
              "        vertical-align: top;\n",
              "    }\n",
              "\n",
              "    .dataframe thead th {\n",
              "        text-align: right;\n",
              "    }\n",
              "</style>\n",
              "<table border=\"1\" class=\"dataframe\">\n",
              "  <thead>\n",
              "    <tr style=\"text-align: right;\">\n",
              "      <th>y</th>\n",
              "      <th>0</th>\n",
              "      <th>1</th>\n",
              "    </tr>\n",
              "    <tr>\n",
              "      <th>loan</th>\n",
              "      <th></th>\n",
              "      <th></th>\n",
              "    </tr>\n",
              "  </thead>\n",
              "  <tbody>\n",
              "    <tr>\n",
              "      <th>0</th>\n",
              "      <td>0.873</td>\n",
              "      <td>0.127</td>\n",
              "    </tr>\n",
              "    <tr>\n",
              "      <th>1</th>\n",
              "      <td>0.933</td>\n",
              "      <td>0.067</td>\n",
              "    </tr>\n",
              "  </tbody>\n",
              "</table>\n",
              "</div>"
            ],
            "text/plain": [
              "y         0      1\n",
              "loan              \n",
              "0     0.873  0.127\n",
              "1     0.933  0.067"
            ]
          },
          "execution_count": 64,
          "metadata": {},
          "output_type": "execute_result"
        }
      ],
      "source": [
        "ct_loan= pd.crosstab(index=df['loan'],\n",
        "           columns=df['y'],\n",
        "           values=df['y'],\n",
        "           aggfunc='count',\n",
        "        normalize='index').round(3)\n",
        "ct_loan"
      ]
    },
    {
      "cell_type": "code",
      "execution_count": null,
      "id": "2bc52458",
      "metadata": {
        "id": "2bc52458",
        "outputId": "86ac1913-ce90-416b-a523-6f094a1b946d"
      },
      "outputs": [
        {
          "data": {
            "text/plain": [
              "<Axes: xlabel='loan'>"
            ]
          },
          "execution_count": 65,
          "metadata": {},
          "output_type": "execute_result"
        },
        {
          "data": {
            "image/png": "[encoded data removed]",
            "text/plain": [
              "<Figure size 640x480 with 1 Axes>"
            ]
          },
          "metadata": {},
          "output_type": "display_data"
        }
      ],
      "source": [
        "ct_loan.plot(kind='bar',stacked=True)"
      ]
    },
    {
      "cell_type": "code",
      "execution_count": null,
      "id": "c8d921f3",
      "metadata": {
        "id": "c8d921f3",
        "outputId": "9b56008d-0a10-4c82-cbf3-bf99f479541d"
      },
      "outputs": [
        {
          "data": {
            "text/html": [
              "<div>\n",
              "<style scoped>\n",
              "    .dataframe tbody tr th:only-of-type {\n",
              "        vertical-align: middle;\n",
              "    }\n",
              "\n",
              "    .dataframe tbody tr th {\n",
              "        vertical-align: top;\n",
              "    }\n",
              "\n",
              "    .dataframe thead th {\n",
              "        text-align: right;\n",
              "    }\n",
              "</style>\n",
              "<table border=\"1\" class=\"dataframe\">\n",
              "  <thead>\n",
              "    <tr style=\"text-align: right;\">\n",
              "      <th>y</th>\n",
              "      <th>0</th>\n",
              "      <th>1</th>\n",
              "    </tr>\n",
              "    <tr>\n",
              "      <th>poutcome</th>\n",
              "      <th></th>\n",
              "      <th></th>\n",
              "    </tr>\n",
              "  </thead>\n",
              "  <tbody>\n",
              "    <tr>\n",
              "      <th>0</th>\n",
              "      <td>0.874</td>\n",
              "      <td>0.126</td>\n",
              "    </tr>\n",
              "    <tr>\n",
              "      <th>1</th>\n",
              "      <td>0.833</td>\n",
              "      <td>0.167</td>\n",
              "    </tr>\n",
              "    <tr>\n",
              "      <th>2</th>\n",
              "      <td>0.353</td>\n",
              "      <td>0.647</td>\n",
              "    </tr>\n",
              "    <tr>\n",
              "      <th>3</th>\n",
              "      <td>0.908</td>\n",
              "      <td>0.092</td>\n",
              "    </tr>\n",
              "  </tbody>\n",
              "</table>\n",
              "</div>"
            ],
            "text/plain": [
              "y             0      1\n",
              "poutcome              \n",
              "0         0.874  0.126\n",
              "1         0.833  0.167\n",
              "2         0.353  0.647\n",
              "3         0.908  0.092"
            ]
          },
          "execution_count": 66,
          "metadata": {},
          "output_type": "execute_result"
        }
      ],
      "source": [
        "ct_pout= pd.crosstab(index=df['poutcome'],\n",
        "           columns=df['y'],\n",
        "           values=df['y'],\n",
        "           aggfunc='count',\n",
        "        normalize='index').round(3)\n",
        "ct_pout"
      ]
    },
    {
      "cell_type": "code",
      "execution_count": null,
      "id": "6eff9a90",
      "metadata": {
        "id": "6eff9a90",
        "outputId": "ac3304f3-edf6-4b96-abf5-85d3948446f6"
      },
      "outputs": [
        {
          "data": {
            "text/plain": [
              "<Axes: xlabel='loan'>"
            ]
          },
          "execution_count": 67,
          "metadata": {},
          "output_type": "execute_result"
        },
        {
          "data": {
            "image/png": "[encoded data removed]",
            "text/plain": [
              "<Figure size 640x480 with 1 Axes>"
            ]
          },
          "metadata": {},
          "output_type": "display_data"
        }
      ],
      "source": [
        "ct_loan.plot(kind='bar',stacked=True)"
      ]
    },
    {
      "cell_type": "markdown",
      "id": "57bbcb52",
      "metadata": {
        "id": "57bbcb52"
      },
      "source": [
        "# Model Building"
      ]
    },
    {
      "cell_type": "code",
      "execution_count": null,
      "id": "fdf73580",
      "metadata": {
        "id": "fdf73580"
      },
      "outputs": [],
      "source": [
        "df.drop(['job'],axis=1,inplace=True)"
      ]
    },
    {
      "cell_type": "code",
      "execution_count": null,
      "id": "2ae82b49",
      "metadata": {
        "id": "2ae82b49",
        "outputId": "c11a3461-c3d4-4a63-ac0d-860115f560bd"
      },
      "outputs": [
        {
          "data": {
            "text/html": [
              "<div>\n",
              "<style scoped>\n",
              "    .dataframe tbody tr th:only-of-type {\n",
              "        vertical-align: middle;\n",
              "    }\n",
              "\n",
              "    .dataframe tbody tr th {\n",
              "        vertical-align: top;\n",
              "    }\n",
              "\n",
              "    .dataframe thead th {\n",
              "        text-align: right;\n",
              "    }\n",
              "</style>\n",
              "<table border=\"1\" class=\"dataframe\">\n",
              "  <thead>\n",
              "    <tr style=\"text-align: right;\">\n",
              "      <th></th>\n",
              "      <th>age</th>\n",
              "      <th>marital</th>\n",
              "      <th>education</th>\n",
              "      <th>default</th>\n",
              "      <th>balance</th>\n",
              "      <th>housing</th>\n",
              "      <th>loan</th>\n",
              "      <th>month</th>\n",
              "      <th>duration</th>\n",
              "      <th>campaign</th>\n",
              "      <th>pdays</th>\n",
              "      <th>previous</th>\n",
              "      <th>poutcome</th>\n",
              "    </tr>\n",
              "  </thead>\n",
              "  <tbody>\n",
              "    <tr>\n",
              "      <th>0</th>\n",
              "      <td>58</td>\n",
              "      <td>1</td>\n",
              "      <td>2</td>\n",
              "      <td>0</td>\n",
              "      <td>2143</td>\n",
              "      <td>1</td>\n",
              "      <td>0</td>\n",
              "      <td>8</td>\n",
              "      <td>261</td>\n",
              "      <td>1</td>\n",
              "      <td>-1</td>\n",
              "      <td>0</td>\n",
              "      <td>3</td>\n",
              "    </tr>\n",
              "    <tr>\n",
              "      <th>1</th>\n",
              "      <td>44</td>\n",
              "      <td>2</td>\n",
              "      <td>1</td>\n",
              "      <td>0</td>\n",
              "      <td>29</td>\n",
              "      <td>1</td>\n",
              "      <td>0</td>\n",
              "      <td>8</td>\n",
              "      <td>151</td>\n",
              "      <td>1</td>\n",
              "      <td>-1</td>\n",
              "      <td>0</td>\n",
              "      <td>3</td>\n",
              "    </tr>\n",
              "    <tr>\n",
              "      <th>2</th>\n",
              "      <td>33</td>\n",
              "      <td>1</td>\n",
              "      <td>1</td>\n",
              "      <td>0</td>\n",
              "      <td>2</td>\n",
              "      <td>1</td>\n",
              "      <td>1</td>\n",
              "      <td>8</td>\n",
              "      <td>76</td>\n",
              "      <td>1</td>\n",
              "      <td>-1</td>\n",
              "      <td>0</td>\n",
              "      <td>3</td>\n",
              "    </tr>\n",
              "    <tr>\n",
              "      <th>3</th>\n",
              "      <td>47</td>\n",
              "      <td>1</td>\n",
              "      <td>3</td>\n",
              "      <td>0</td>\n",
              "      <td>1506</td>\n",
              "      <td>1</td>\n",
              "      <td>0</td>\n",
              "      <td>8</td>\n",
              "      <td>92</td>\n",
              "      <td>1</td>\n",
              "      <td>-1</td>\n",
              "      <td>0</td>\n",
              "      <td>3</td>\n",
              "    </tr>\n",
              "    <tr>\n",
              "      <th>4</th>\n",
              "      <td>33</td>\n",
              "      <td>2</td>\n",
              "      <td>3</td>\n",
              "      <td>0</td>\n",
              "      <td>1</td>\n",
              "      <td>0</td>\n",
              "      <td>0</td>\n",
              "      <td>8</td>\n",
              "      <td>198</td>\n",
              "      <td>1</td>\n",
              "      <td>-1</td>\n",
              "      <td>0</td>\n",
              "      <td>3</td>\n",
              "    </tr>\n",
              "    <tr>\n",
              "      <th>...</th>\n",
              "      <td>...</td>\n",
              "      <td>...</td>\n",
              "      <td>...</td>\n",
              "      <td>...</td>\n",
              "      <td>...</td>\n",
              "      <td>...</td>\n",
              "      <td>...</td>\n",
              "      <td>...</td>\n",
              "      <td>...</td>\n",
              "      <td>...</td>\n",
              "      <td>...</td>\n",
              "      <td>...</td>\n",
              "      <td>...</td>\n",
              "    </tr>\n",
              "    <tr>\n",
              "      <th>45206</th>\n",
              "      <td>51</td>\n",
              "      <td>1</td>\n",
              "      <td>2</td>\n",
              "      <td>0</td>\n",
              "      <td>825</td>\n",
              "      <td>0</td>\n",
              "      <td>0</td>\n",
              "      <td>9</td>\n",
              "      <td>977</td>\n",
              "      <td>3</td>\n",
              "      <td>-1</td>\n",
              "      <td>0</td>\n",
              "      <td>3</td>\n",
              "    </tr>\n",
              "    <tr>\n",
              "      <th>45207</th>\n",
              "      <td>71</td>\n",
              "      <td>0</td>\n",
              "      <td>0</td>\n",
              "      <td>0</td>\n",
              "      <td>1729</td>\n",
              "      <td>0</td>\n",
              "      <td>0</td>\n",
              "      <td>9</td>\n",
              "      <td>456</td>\n",
              "      <td>2</td>\n",
              "      <td>-1</td>\n",
              "      <td>0</td>\n",
              "      <td>3</td>\n",
              "    </tr>\n",
              "    <tr>\n",
              "      <th>45208</th>\n",
              "      <td>72</td>\n",
              "      <td>1</td>\n",
              "      <td>1</td>\n",
              "      <td>0</td>\n",
              "      <td>5715</td>\n",
              "      <td>0</td>\n",
              "      <td>0</td>\n",
              "      <td>9</td>\n",
              "      <td>1127</td>\n",
              "      <td>5</td>\n",
              "      <td>184</td>\n",
              "      <td>3</td>\n",
              "      <td>2</td>\n",
              "    </tr>\n",
              "    <tr>\n",
              "      <th>45209</th>\n",
              "      <td>57</td>\n",
              "      <td>1</td>\n",
              "      <td>1</td>\n",
              "      <td>0</td>\n",
              "      <td>668</td>\n",
              "      <td>0</td>\n",
              "      <td>0</td>\n",
              "      <td>9</td>\n",
              "      <td>508</td>\n",
              "      <td>4</td>\n",
              "      <td>-1</td>\n",
              "      <td>0</td>\n",
              "      <td>3</td>\n",
              "    </tr>\n",
              "    <tr>\n",
              "      <th>45210</th>\n",
              "      <td>37</td>\n",
              "      <td>1</td>\n",
              "      <td>1</td>\n",
              "      <td>0</td>\n",
              "      <td>2971</td>\n",
              "      <td>0</td>\n",
              "      <td>0</td>\n",
              "      <td>9</td>\n",
              "      <td>361</td>\n",
              "      <td>2</td>\n",
              "      <td>188</td>\n",
              "      <td>11</td>\n",
              "      <td>1</td>\n",
              "    </tr>\n",
              "  </tbody>\n",
              "</table>\n",
              "<p>45211 rows × 13 columns</p>\n",
              "</div>"
            ],
            "text/plain": [
              "       age  marital  education  default  balance  housing  loan  month  \\\n",
              "0       58        1          2        0     2143        1     0      8   \n",
              "1       44        2          1        0       29        1     0      8   \n",
              "2       33        1          1        0        2        1     1      8   \n",
              "3       47        1          3        0     1506        1     0      8   \n",
              "4       33        2          3        0        1        0     0      8   \n",
              "...    ...      ...        ...      ...      ...      ...   ...    ...   \n",
              "45206   51        1          2        0      825        0     0      9   \n",
              "45207   71        0          0        0     1729        0     0      9   \n",
              "45208   72        1          1        0     5715        0     0      9   \n",
              "45209   57        1          1        0      668        0     0      9   \n",
              "45210   37        1          1        0     2971        0     0      9   \n",
              "\n",
              "       duration  campaign  pdays  previous  poutcome  \n",
              "0           261         1     -1         0         3  \n",
              "1           151         1     -1         0         3  \n",
              "2            76         1     -1         0         3  \n",
              "3            92         1     -1         0         3  \n",
              "4           198         1     -1         0         3  \n",
              "...         ...       ...    ...       ...       ...  \n",
              "45206       977         3     -1         0         3  \n",
              "45207       456         2     -1         0         3  \n",
              "45208      1127         5    184         3         2  \n",
              "45209       508         4     -1         0         3  \n",
              "45210       361         2    188        11         1  \n",
              "\n",
              "[45211 rows x 13 columns]"
            ]
          },
          "execution_count": 113,
          "metadata": {},
          "output_type": "execute_result"
        }
      ],
      "source": [
        "X=df.iloc[:,:-1]\n",
        "X"
      ]
    },
    {
      "cell_type": "code",
      "execution_count": null,
      "id": "74c89f15",
      "metadata": {
        "id": "74c89f15",
        "outputId": "7c717d52-ed6a-4902-bcb4-7f299c5c5d34"
      },
      "outputs": [
        {
          "data": {
            "text/plain": [
              "0        0\n",
              "1        0\n",
              "2        0\n",
              "3        0\n",
              "4        0\n",
              "        ..\n",
              "45206    1\n",
              "45207    1\n",
              "45208    1\n",
              "45209    0\n",
              "45210    0\n",
              "Name: y, Length: 45211, dtype: int8"
            ]
          },
          "execution_count": 114,
          "metadata": {},
          "output_type": "execute_result"
        }
      ],
      "source": [
        "Y=df['y']\n",
        "Y"
      ]
    },
    {
      "cell_type": "code",
      "execution_count": null,
      "id": "9985ebe4",
      "metadata": {
        "id": "9985ebe4"
      },
      "outputs": [],
      "source": [
        "import statsmodels.formula.api as smf"
      ]
    },
    {
      "cell_type": "code",
      "execution_count": null,
      "id": "e635eea0",
      "metadata": {
        "id": "e635eea0"
      },
      "outputs": [],
      "source": [
        "def vif_cal(input_data):\n",
        "    x_vars=input_data\n",
        "    xvar_names=input_data.columns\n",
        "    for i in range(0,xvar_names.shape[0]):\n",
        "        y=x_vars[xvar_names[i]]\n",
        "        x=x_vars[xvar_names.drop(xvar_names[i])]\n",
        "        rsq=smf.ols(formula=\"y~x\", data=x_vars).fit().rsquared\n",
        "        vif=round(1/(1-rsq),2)\n",
        "        print (xvar_names[i], \" VIF = \" , vif)"
      ]
    },
    {
      "cell_type": "code",
      "execution_count": null,
      "id": "4d8a9dd2",
      "metadata": {
        "id": "4d8a9dd2",
        "outputId": "8c3a8a38-ce9e-4cc9-adb5-45e25e72a036"
      },
      "outputs": [
        {
          "name": "stdout",
          "output_type": "stream",
          "text": [
            "age  VIF =  1.27\n",
            "marital  VIF =  1.22\n",
            "education  VIF =  1.04\n",
            "default  VIF =  1.01\n",
            "balance  VIF =  1.03\n",
            "housing  VIF =  1.16\n",
            "loan  VIF =  1.02\n",
            "month  VIF =  1.1\n",
            "duration  VIF =  1.01\n",
            "campaign  VIF =  1.03\n",
            "pdays  VIF =  3.85\n",
            "previous  VIF =  1.33\n",
            "poutcome  VIF =  4.01\n"
          ]
        }
      ],
      "source": [
        "vif_cal(X)"
      ]
    },
    {
      "cell_type": "code",
      "execution_count": null,
      "id": "2af8caf2",
      "metadata": {
        "id": "2af8caf2",
        "outputId": "7db60851-733b-4ccc-8422-adcbc51daca8"
      },
      "outputs": [
        {
          "name": "stdout",
          "output_type": "stream",
          "text": [
            "Optimization terminated successfully.\n",
            "         Current function value: 0.274734\n",
            "         Iterations 7\n"
          ]
        }
      ],
      "source": [
        "logreg = sm.Logit(Y,sm.add_constant(X))\n",
        "lg=logreg.fit()"
      ]
    },
    {
      "cell_type": "code",
      "execution_count": null,
      "id": "7fb272f1",
      "metadata": {
        "id": "7fb272f1",
        "outputId": "98e53e18-417e-4706-f03d-af92a9832fb3"
      },
      "outputs": [
        {
          "name": "stdout",
          "output_type": "stream",
          "text": [
            "                           Logit Regression Results                           \n",
            "==============================================================================\n",
            "Dep. Variable:                      y   No. Observations:                45211\n",
            "Model:                          Logit   Df Residuals:                    45197\n",
            "Method:                           MLE   Df Model:                           13\n",
            "Date:                Thu, 12 Oct 2023   Pseudo R-squ.:                  0.2387\n",
            "Time:                        18:08:48   Log-Likelihood:                -12421.\n",
            "converged:                       True   LL-Null:                       -16315.\n",
            "Covariance Type:            nonrobust   LLR p-value:                     0.000\n",
            "==============================================================================\n",
            "                 coef    std err          z      P>|z|      [0.025      0.975]\n",
            "------------------------------------------------------------------------------\n",
            "const         -3.7888      0.140    -27.074      0.000      -4.063      -3.515\n",
            "age            0.0052      0.002      3.129      0.002       0.002       0.008\n",
            "marital        0.2287      0.031      7.448      0.000       0.168       0.289\n",
            "education      0.2283      0.022     10.228      0.000       0.185       0.272\n",
            "default       -0.3664      0.158     -2.318      0.020      -0.676      -0.057\n",
            "balance     1.997e-05   4.49e-06      4.450      0.000    1.12e-05    2.88e-05\n",
            "housing       -1.1683      0.037    -31.314      0.000      -1.241      -1.095\n",
            "loan          -0.6649      0.057    -11.768      0.000      -0.776      -0.554\n",
            "month         -0.0010      0.005     -0.192      0.848      -0.012       0.010\n",
            "duration       0.0039   5.97e-05     65.081      0.000       0.004       0.004\n",
            "campaign      -0.1385      0.010    -14.012      0.000      -0.158      -0.119\n",
            "pdays          0.0039      0.000     15.295      0.000       0.003       0.004\n",
            "previous       0.0935      0.008     11.473      0.000       0.078       0.110\n",
            "poutcome       0.1380      0.029      4.775      0.000       0.081       0.195\n",
            "==============================================================================\n"
          ]
        }
      ],
      "source": [
        "print(lg.summary())"
      ]
    },
    {
      "cell_type": "code",
      "execution_count": null,
      "id": "72caecc7",
      "metadata": {
        "id": "72caecc7",
        "outputId": "e97dbce1-215c-4159-be7c-333f7d6c0e06"
      },
      "outputs": [
        {
          "data": {
            "text/html": [
              "<div>\n",
              "<style scoped>\n",
              "    .dataframe tbody tr th:only-of-type {\n",
              "        vertical-align: middle;\n",
              "    }\n",
              "\n",
              "    .dataframe tbody tr th {\n",
              "        vertical-align: top;\n",
              "    }\n",
              "\n",
              "    .dataframe thead th {\n",
              "        text-align: right;\n",
              "    }\n",
              "</style>\n",
              "<table border=\"1\" class=\"dataframe\">\n",
              "  <thead>\n",
              "    <tr style=\"text-align: right;\">\n",
              "      <th></th>\n",
              "      <th>coef</th>\n",
              "    </tr>\n",
              "  </thead>\n",
              "  <tbody>\n",
              "    <tr>\n",
              "      <th>const</th>\n",
              "      <td>-3.788786</td>\n",
              "    </tr>\n",
              "    <tr>\n",
              "      <th>age</th>\n",
              "      <td>0.005199</td>\n",
              "    </tr>\n",
              "    <tr>\n",
              "      <th>marital</th>\n",
              "      <td>0.228650</td>\n",
              "    </tr>\n",
              "    <tr>\n",
              "      <th>education</th>\n",
              "      <td>0.228290</td>\n",
              "    </tr>\n",
              "    <tr>\n",
              "      <th>default</th>\n",
              "      <td>-0.366437</td>\n",
              "    </tr>\n",
              "    <tr>\n",
              "      <th>balance</th>\n",
              "      <td>0.000020</td>\n",
              "    </tr>\n",
              "    <tr>\n",
              "      <th>housing</th>\n",
              "      <td>-1.168264</td>\n",
              "    </tr>\n",
              "    <tr>\n",
              "      <th>loan</th>\n",
              "      <td>-0.664934</td>\n",
              "    </tr>\n",
              "    <tr>\n",
              "      <th>month</th>\n",
              "      <td>-0.001045</td>\n",
              "    </tr>\n",
              "    <tr>\n",
              "      <th>duration</th>\n",
              "      <td>0.003887</td>\n",
              "    </tr>\n",
              "    <tr>\n",
              "      <th>campaign</th>\n",
              "      <td>-0.138549</td>\n",
              "    </tr>\n",
              "    <tr>\n",
              "      <th>pdays</th>\n",
              "      <td>0.003875</td>\n",
              "    </tr>\n",
              "    <tr>\n",
              "      <th>previous</th>\n",
              "      <td>0.093540</td>\n",
              "    </tr>\n",
              "    <tr>\n",
              "      <th>poutcome</th>\n",
              "      <td>0.138036</td>\n",
              "    </tr>\n",
              "  </tbody>\n",
              "</table>\n",
              "</div>"
            ],
            "text/plain": [
              "               coef\n",
              "const     -3.788786\n",
              "age        0.005199\n",
              "marital    0.228650\n",
              "education  0.228290\n",
              "default   -0.366437\n",
              "balance    0.000020\n",
              "housing   -1.168264\n",
              "loan      -0.664934\n",
              "month     -0.001045\n",
              "duration   0.003887\n",
              "campaign  -0.138549\n",
              "pdays      0.003875\n",
              "previous   0.093540\n",
              "poutcome   0.138036"
            ]
          },
          "execution_count": 121,
          "metadata": {},
          "output_type": "execute_result"
        }
      ],
      "source": [
        "lg_coef = pd.DataFrame(lg.params,columns=['coef'])\n",
        "lg_coef"
      ]
    },
    {
      "cell_type": "code",
      "execution_count": null,
      "id": "8a771d90",
      "metadata": {
        "id": "8a771d90"
      },
      "outputs": [],
      "source": [
        "x_train,x_test,y_train,y_test = train_test_split(X,Y,test_size=0.29,random_state=123)"
      ]
    },
    {
      "cell_type": "code",
      "execution_count": null,
      "id": "4066142f",
      "metadata": {
        "id": "4066142f",
        "outputId": "d83ce2ec-2cd0-4acd-cfd5-96b3e6bfd7b1"
      },
      "outputs": [
        {
          "data": {
            "text/plain": [
              "(45211, 14)"
            ]
          },
          "execution_count": 123,
          "metadata": {},
          "output_type": "execute_result"
        }
      ],
      "source": [
        "df.shape"
      ]
    },
    {
      "cell_type": "code",
      "execution_count": null,
      "id": "9cc36d79",
      "metadata": {
        "id": "9cc36d79",
        "outputId": "74e18638-c14a-4a0e-c416-7d249b47ecdc"
      },
      "outputs": [
        {
          "data": {
            "text/plain": [
              "(32099, 13)"
            ]
          },
          "execution_count": 124,
          "metadata": {},
          "output_type": "execute_result"
        }
      ],
      "source": [
        "x_train.shape"
      ]
    },
    {
      "cell_type": "code",
      "execution_count": null,
      "id": "955722a8",
      "metadata": {
        "id": "955722a8",
        "outputId": "d963dd6f-4d82-4e8b-b5a5-bd5d70e0dfd6"
      },
      "outputs": [
        {
          "data": {
            "text/plain": [
              "(13112, 13)"
            ]
          },
          "execution_count": 125,
          "metadata": {},
          "output_type": "execute_result"
        }
      ],
      "source": [
        "x_test.shape"
      ]
    },
    {
      "cell_type": "code",
      "execution_count": null,
      "id": "e9ebe711",
      "metadata": {
        "id": "e9ebe711",
        "outputId": "546bfc3e-4ed4-49aa-ae40-295ab1d47493"
      },
      "outputs": [
        {
          "data": {
            "text/plain": [
              "(32099,)"
            ]
          },
          "execution_count": 126,
          "metadata": {},
          "output_type": "execute_result"
        }
      ],
      "source": [
        "y_train.shape"
      ]
    },
    {
      "cell_type": "code",
      "execution_count": null,
      "id": "8d903dc3",
      "metadata": {
        "id": "8d903dc3",
        "outputId": "716378cf-94e9-44bb-e5ac-9f543821aebc"
      },
      "outputs": [
        {
          "data": {
            "text/plain": [
              "(13112,)"
            ]
          },
          "execution_count": 127,
          "metadata": {},
          "output_type": "execute_result"
        }
      ],
      "source": [
        "y_test.shape"
      ]
    },
    {
      "cell_type": "code",
      "execution_count": null,
      "id": "c9be1f59",
      "metadata": {
        "id": "c9be1f59"
      },
      "outputs": [],
      "source": [
        "model=LogisticRegression()"
      ]
    },
    {
      "cell_type": "code",
      "execution_count": null,
      "id": "a41179d6",
      "metadata": {
        "id": "a41179d6",
        "outputId": "586fd088-2093-4387-d469-c16dcb450de4"
      },
      "outputs": [
        {
          "data": {
            "text/html": [
              "<style>#sk-container-id-1 {color: black;background-color: white;}#sk-container-id-1 pre{padding: 0;}#sk-container-id-1 div.sk-toggleable {background-color: white;}#sk-container-id-1 label.sk-toggleable__label {cursor: pointer;display: block;width: 100%;margin-bottom: 0;padding: 0.3em;box-sizing: border-box;text-align: center;}#sk-container-id-1 label.sk-toggleable__label-arrow:before {content: \"▸\";float: left;margin-right: 0.25em;color: #696969;}#sk-container-id-1 label.sk-toggleable__label-arrow:hover:before {color: black;}#sk-container-id-1 div.sk-estimator:hover label.sk-toggleable__label-arrow:before {color: black;}#sk-container-id-1 div.sk-toggleable__content {max-height: 0;max-width: 0;overflow: hidden;text-align: left;background-color: #f0f8ff;}#sk-container-id-1 div.sk-toggleable__content pre {margin: 0.2em;color: black;border-radius: 0.25em;background-color: #f0f8ff;}#sk-container-id-1 input.sk-toggleable__control:checked~div.sk-toggleable__content {max-height: 200px;max-width: 100%;overflow: auto;}#sk-container-id-1 input.sk-toggleable__control:checked~label.sk-toggleable__label-arrow:before {content: \"▾\";}#sk-container-id-1 div.sk-estimator input.sk-toggleable__control:checked~label.sk-toggleable__label {background-color: #d4ebff;}#sk-container-id-1 div.sk-label input.sk-toggleable__control:checked~label.sk-toggleable__label {background-color: #d4ebff;}#sk-container-id-1 input.sk-hidden--visually {border: 0;clip: rect(1px 1px 1px 1px);clip: rect(1px, 1px, 1px, 1px);height: 1px;margin: -1px;overflow: hidden;padding: 0;position: absolute;width: 1px;}#sk-container-id-1 div.sk-estimator {font-family: monospace;background-color: #f0f8ff;border: 1px dotted black;border-radius: 0.25em;box-sizing: border-box;margin-bottom: 0.5em;}#sk-container-id-1 div.sk-estimator:hover {background-color: #d4ebff;}#sk-container-id-1 div.sk-parallel-item::after {content: \"\";width: 100%;border-bottom: 1px solid gray;flex-grow: 1;}#sk-container-id-1 div.sk-label:hover label.sk-toggleable__label {background-color: #d4ebff;}#sk-container-id-1 div.sk-serial::before {content: \"\";position: absolute;border-left: 1px solid gray;box-sizing: border-box;top: 0;bottom: 0;left: 50%;z-index: 0;}#sk-container-id-1 div.sk-serial {display: flex;flex-direction: column;align-items: center;background-color: white;padding-right: 0.2em;padding-left: 0.2em;position: relative;}#sk-container-id-1 div.sk-item {position: relative;z-index: 1;}#sk-container-id-1 div.sk-parallel {display: flex;align-items: stretch;justify-content: center;background-color: white;position: relative;}#sk-container-id-1 div.sk-item::before, #sk-container-id-1 div.sk-parallel-item::before {content: \"\";position: absolute;border-left: 1px solid gray;box-sizing: border-box;top: 0;bottom: 0;left: 50%;z-index: -1;}#sk-container-id-1 div.sk-parallel-item {display: flex;flex-direction: column;z-index: 1;position: relative;background-color: white;}#sk-container-id-1 div.sk-parallel-item:first-child::after {align-self: flex-end;width: 50%;}#sk-container-id-1 div.sk-parallel-item:last-child::after {align-self: flex-start;width: 50%;}#sk-container-id-1 div.sk-parallel-item:only-child::after {width: 0;}#sk-container-id-1 div.sk-dashed-wrapped {border: 1px dashed gray;margin: 0 0.4em 0.5em 0.4em;box-sizing: border-box;padding-bottom: 0.4em;background-color: white;}#sk-container-id-1 div.sk-label label {font-family: monospace;font-weight: bold;display: inline-block;line-height: 1.2em;}#sk-container-id-1 div.sk-label-container {text-align: center;}#sk-container-id-1 div.sk-container {/* jupyter's `normalize.less` sets `[hidden] { display: none; }` but bootstrap.min.css set `[hidden] { display: none !important; }` so we also need the `!important` here to be able to override the default hidden behavior on the sphinx rendered scikit-learn.org. See: https://github.com/scikit-learn/scikit-learn/issues/21755 */display: inline-block !important;position: relative;}#sk-container-id-1 div.sk-text-repr-fallback {display: none;}</style><div id=\"sk-container-id-1\" class=\"sk-top-container\"><div class=\"sk-text-repr-fallback\"><pre>LogisticRegression()</pre><b>In a Jupyter environment, please rerun this cell to show the HTML representation or trust the notebook. <br />On GitHub, the HTML representation is unable to render, please try loading this page with nbviewer.org.</b></div><div class=\"sk-container\" hidden><div class=\"sk-item\"><div class=\"sk-estimator sk-toggleable\"><input class=\"sk-toggleable__control sk-hidden--visually\" id=\"sk-estimator-id-1\" type=\"checkbox\" checked><label for=\"sk-estimator-id-1\" class=\"sk-toggleable__label sk-toggleable__label-arrow\">LogisticRegression</label><div class=\"sk-toggleable__content\"><pre>LogisticRegression()</pre></div></div></div></div></div>"
            ],
            "text/plain": [
              "LogisticRegression()"
            ]
          },
          "execution_count": 129,
          "metadata": {},
          "output_type": "execute_result"
        }
      ],
      "source": [
        "model.fit(x_train,y_train)"
      ]
    },
    {
      "cell_type": "code",
      "execution_count": null,
      "id": "6ea2a740",
      "metadata": {
        "id": "6ea2a740",
        "outputId": "35ab3496-18ba-43b9-b432-8b5cc7853896"
      },
      "outputs": [
        {
          "data": {
            "text/plain": [
              "array([0, 0, 0, ..., 0, 0, 0], dtype=int8)"
            ]
          },
          "execution_count": 130,
          "metadata": {},
          "output_type": "execute_result"
        }
      ],
      "source": [
        "y_train_pred = model.predict(x_train)\n",
        "y_train_pred"
      ]
    },
    {
      "cell_type": "code",
      "execution_count": null,
      "id": "25146502",
      "metadata": {
        "id": "25146502",
        "outputId": "cf92701b-3d6b-4608-a762-62387a0c893d"
      },
      "outputs": [
        {
          "data": {
            "text/plain": [
              "0.8875977444780211"
            ]
          },
          "execution_count": 131,
          "metadata": {},
          "output_type": "execute_result"
        }
      ],
      "source": [
        "metrics.accuracy_score(y_train,y_train_pred )"
      ]
    },
    {
      "cell_type": "code",
      "execution_count": null,
      "id": "f3022416",
      "metadata": {
        "id": "f3022416",
        "outputId": "625bbdfa-353c-4ca9-f580-609ab6f61bd0"
      },
      "outputs": [
        {
          "data": {
            "text/plain": [
              "array([0, 0, 0, ..., 0, 0, 0], dtype=int8)"
            ]
          },
          "execution_count": 134,
          "metadata": {},
          "output_type": "execute_result"
        }
      ],
      "source": [
        "y_test_pred = model.predict(x_test)\n",
        "y_test_pred"
      ]
    },
    {
      "cell_type": "code",
      "execution_count": null,
      "id": "0be8002c",
      "metadata": {
        "id": "0be8002c",
        "outputId": "8fb7b148-d04e-41f5-b8ba-ae5e1714270c"
      },
      "outputs": [
        {
          "data": {
            "text/plain": [
              "0.889261744966443"
            ]
          },
          "execution_count": 135,
          "metadata": {},
          "output_type": "execute_result"
        }
      ],
      "source": [
        "metrics.accuracy_score(y_test,y_test_pred )"
      ]
    },
    {
      "cell_type": "code",
      "execution_count": null,
      "id": "55c2a5d1",
      "metadata": {
        "id": "55c2a5d1"
      },
      "outputs": [],
      "source": [
        "from sklearn.metrics import confusion_matrix, accuracy_score, precision_score, recall_score, classification_report"
      ]
    },
    {
      "cell_type": "code",
      "execution_count": null,
      "id": "335da895",
      "metadata": {
        "id": "335da895",
        "outputId": "f80576e4-20e7-4551-c1b6-7d66468f2c1e"
      },
      "outputs": [
        {
          "data": {
            "text/plain": [
              "array([[11403,   194],\n",
              "       [ 1258,   257]], dtype=int64)"
            ]
          },
          "execution_count": 138,
          "metadata": {},
          "output_type": "execute_result"
        }
      ],
      "source": [
        "confusion_matrix(y_test,y_test_pred)"
      ]
    },
    {
      "cell_type": "code",
      "execution_count": null,
      "id": "7f7d0bea",
      "metadata": {
        "id": "7f7d0bea"
      },
      "outputs": [],
      "source": [
        "tn, fp, fn, tp = confusion_matrix(y_test, y_test_pred).ravel()"
      ]
    },
    {
      "cell_type": "code",
      "execution_count": null,
      "id": "0c6d8c7c",
      "metadata": {
        "id": "0c6d8c7c",
        "outputId": "aab90a90-dc2c-4b55-879f-5d84b5a5ec19"
      },
      "outputs": [
        {
          "name": "stdout",
          "output_type": "stream",
          "text": [
            "11403 194 1258 257\n"
          ]
        }
      ],
      "source": [
        "print(tn, fp, fn, tp )"
      ]
    },
    {
      "cell_type": "code",
      "execution_count": null,
      "id": "7b992f55",
      "metadata": {
        "id": "7b992f55",
        "outputId": "700d4ee7-6d62-4646-e0a6-99c1fe7ac629"
      },
      "outputs": [
        {
          "name": "stdout",
          "output_type": "stream",
          "text": [
            "              precision    recall  f1-score   support\n",
            "\n",
            "           0       0.90      0.98      0.94     11597\n",
            "           1       0.57      0.17      0.26      1515\n",
            "\n",
            "    accuracy                           0.89     13112\n",
            "   macro avg       0.74      0.58      0.60     13112\n",
            "weighted avg       0.86      0.89      0.86     13112\n",
            "\n"
          ]
        }
      ],
      "source": [
        "print(classification_report(y_test, y_test_pred))"
      ]
    },
    {
      "cell_type": "code",
      "execution_count": null,
      "id": "9518815b",
      "metadata": {
        "id": "9518815b",
        "outputId": "99c2a72f-5a02-4d22-9e93-0cfbe1d0a5c8"
      },
      "outputs": [
        {
          "name": "stdout",
          "output_type": "stream",
          "text": [
            "[[0.88249762 0.11750238]\n",
            " [0.92720769 0.07279231]\n",
            " [0.89944325 0.10055675]\n",
            " ...\n",
            " [0.75826919 0.24173081]\n",
            " [0.93065326 0.06934674]\n",
            " [0.95387137 0.04612863]]\n"
          ]
        }
      ],
      "source": [
        "y_pred_prob = model.predict_proba(x_test)\n",
        "print(y_pred_prob)"
      ]
    },
    {
      "cell_type": "code",
      "execution_count": null,
      "id": "bb273221",
      "metadata": {
        "id": "bb273221",
        "outputId": "8f785e09-0421-468a-a847-af9ff93c8935"
      },
      "outputs": [
        {
          "data": {
            "text/plain": [
              "0.5764542497191859"
            ]
          },
          "execution_count": 147,
          "metadata": {},
          "output_type": "execute_result"
        }
      ],
      "source": [
        "#AUC Value\n",
        "from sklearn.metrics import roc_auc_score\n",
        "from sklearn.metrics import roc_curve\n",
        "\n",
        "logit_roc_auc = roc_auc_score(y_test, y_test_pred)\n",
        "logit_roc_auc"
      ]
    },
    {
      "cell_type": "code",
      "execution_count": null,
      "id": "06df2206",
      "metadata": {
        "id": "06df2206",
        "outputId": "f787cb30-72a4-4f7a-85f7-380499dd9e34"
      },
      "outputs": [
        {
          "data": {
            "text/plain": [
              "(0.0, 1.05)"
            ]
          },
          "execution_count": 148,
          "metadata": {},
          "output_type": "execute_result"
        },
        {
          "data": {
            "image/png": "[encoded data removed]",
            "text/plain": [
              "<Figure size 640x480 with 1 Axes>"
            ]
          },
          "metadata": {},
          "output_type": "display_data"
        }
      ],
      "source": [
        "#Plotting the ROC Curve\n",
        "fpr, tpr, threshold = roc_curve(y_test, y_test_pred)\n",
        "plt.plot(fpr,tpr)\n",
        "plt.plot([0, 1], [0, 1],'r--')\n",
        "plt.xlim([0.0, 1.0])\n",
        "plt.ylim([0.0, 1.05])"
      ]
    },
    {
      "cell_type": "code",
      "execution_count": null,
      "id": "5b0a1af4",
      "metadata": {
        "id": "5b0a1af4",
        "outputId": "63d09db5-d99f-4146-a410-6a62bd03b588"
      },
      "outputs": [
        {
          "data": {
            "text/html": [
              "<div>\n",
              "<style scoped>\n",
              "    .dataframe tbody tr th:only-of-type {\n",
              "        vertical-align: middle;\n",
              "    }\n",
              "\n",
              "    .dataframe tbody tr th {\n",
              "        vertical-align: top;\n",
              "    }\n",
              "\n",
              "    .dataframe thead th {\n",
              "        text-align: right;\n",
              "    }\n",
              "</style>\n",
              "<table border=\"1\" class=\"dataframe\">\n",
              "  <thead>\n",
              "    <tr style=\"text-align: right;\">\n",
              "      <th></th>\n",
              "      <th>0</th>\n",
              "      <th>1</th>\n",
              "    </tr>\n",
              "  </thead>\n",
              "  <tbody>\n",
              "    <tr>\n",
              "      <th>0</th>\n",
              "      <td>0.882498</td>\n",
              "      <td>0.117502</td>\n",
              "    </tr>\n",
              "    <tr>\n",
              "      <th>1</th>\n",
              "      <td>0.927208</td>\n",
              "      <td>0.072792</td>\n",
              "    </tr>\n",
              "    <tr>\n",
              "      <th>2</th>\n",
              "      <td>0.899443</td>\n",
              "      <td>0.100557</td>\n",
              "    </tr>\n",
              "    <tr>\n",
              "      <th>3</th>\n",
              "      <td>0.924246</td>\n",
              "      <td>0.075754</td>\n",
              "    </tr>\n",
              "    <tr>\n",
              "      <th>4</th>\n",
              "      <td>0.982740</td>\n",
              "      <td>0.017260</td>\n",
              "    </tr>\n",
              "    <tr>\n",
              "      <th>...</th>\n",
              "      <td>...</td>\n",
              "      <td>...</td>\n",
              "    </tr>\n",
              "    <tr>\n",
              "      <th>13107</th>\n",
              "      <td>0.903236</td>\n",
              "      <td>0.096764</td>\n",
              "    </tr>\n",
              "    <tr>\n",
              "      <th>13108</th>\n",
              "      <td>0.936137</td>\n",
              "      <td>0.063863</td>\n",
              "    </tr>\n",
              "    <tr>\n",
              "      <th>13109</th>\n",
              "      <td>0.758269</td>\n",
              "      <td>0.241731</td>\n",
              "    </tr>\n",
              "    <tr>\n",
              "      <th>13110</th>\n",
              "      <td>0.930653</td>\n",
              "      <td>0.069347</td>\n",
              "    </tr>\n",
              "    <tr>\n",
              "      <th>13111</th>\n",
              "      <td>0.953871</td>\n",
              "      <td>0.046129</td>\n",
              "    </tr>\n",
              "  </tbody>\n",
              "</table>\n",
              "<p>13112 rows × 2 columns</p>\n",
              "</div>"
            ],
            "text/plain": [
              "              0         1\n",
              "0      0.882498  0.117502\n",
              "1      0.927208  0.072792\n",
              "2      0.899443  0.100557\n",
              "3      0.924246  0.075754\n",
              "4      0.982740  0.017260\n",
              "...         ...       ...\n",
              "13107  0.903236  0.096764\n",
              "13108  0.936137  0.063863\n",
              "13109  0.758269  0.241731\n",
              "13110  0.930653  0.069347\n",
              "13111  0.953871  0.046129\n",
              "\n",
              "[13112 rows x 2 columns]"
            ]
          },
          "execution_count": 150,
          "metadata": {},
          "output_type": "execute_result"
        }
      ],
      "source": [
        " #Predict the probability value for X\n",
        "pred_proba_df = pd.DataFrame(y_pred_prob)\n",
        "pred_proba_df"
      ]
    },
    {
      "cell_type": "code",
      "execution_count": null,
      "id": "fb2d51dd",
      "metadata": {
        "id": "fb2d51dd",
        "outputId": "1fd3736d-5256-4e8a-a705-b54014eefedf"
      },
      "outputs": [
        {
          "name": "stdout",
          "output_type": "stream",
          "text": [
            "\n",
            "******** For i = 0.2 ******\n",
            "              precision    recall  f1-score   support\n",
            "\n",
            "           0       0.93      0.89      0.91     11597\n",
            "           1       0.37      0.49      0.42      1515\n",
            "\n",
            "    accuracy                           0.85     13112\n",
            "   macro avg       0.65      0.69      0.67     13112\n",
            "weighted avg       0.87      0.85      0.85     13112\n",
            "\n"
          ]
        },
        {
          "data": {
            "image/png": "[encoded data removed]",
            "text/plain": [
              "<Figure size 640x480 with 2 Axes>"
            ]
          },
          "metadata": {},
          "output_type": "display_data"
        },
        {
          "name": "stdout",
          "output_type": "stream",
          "text": [
            " Printing this at the end \n",
            "\n",
            "******** For i = 0.3 ******\n",
            "              precision    recall  f1-score   support\n",
            "\n",
            "           0       0.92      0.95      0.93     11597\n",
            "           1       0.48      0.34      0.40      1515\n",
            "\n",
            "    accuracy                           0.88     13112\n",
            "   macro avg       0.70      0.64      0.66     13112\n",
            "weighted avg       0.87      0.88      0.87     13112\n",
            "\n"
          ]
        },
        {
          "data": {
            "image/png": "[encoded data removed]",
            "text/plain": [
              "<Figure size 640x480 with 2 Axes>"
            ]
          },
          "metadata": {},
          "output_type": "display_data"
        },
        {
          "name": "stdout",
          "output_type": "stream",
          "text": [
            " Printing this at the end \n",
            "\n",
            "******** For i = 0.4 ******\n",
            "              precision    recall  f1-score   support\n",
            "\n",
            "           0       0.91      0.97      0.94     11597\n",
            "           1       0.53      0.23      0.32      1515\n",
            "\n",
            "    accuracy                           0.89     13112\n",
            "   macro avg       0.72      0.60      0.63     13112\n",
            "weighted avg       0.86      0.89      0.87     13112\n",
            "\n"
          ]
        },
        {
          "data": {
            "image/png": "[encoded data removed]",
            "text/plain": [
              "<Figure size 640x480 with 2 Axes>"
            ]
          },
          "metadata": {},
          "output_type": "display_data"
        },
        {
          "name": "stdout",
          "output_type": "stream",
          "text": [
            " Printing this at the end \n",
            "\n",
            "******** For i = 0.5 ******\n",
            "              precision    recall  f1-score   support\n",
            "\n",
            "           0       0.90      0.98      0.94     11597\n",
            "           1       0.57      0.17      0.26      1515\n",
            "\n",
            "    accuracy                           0.89     13112\n",
            "   macro avg       0.74      0.58      0.60     13112\n",
            "weighted avg       0.86      0.89      0.86     13112\n",
            "\n"
          ]
        },
        {
          "data": {
            "image/png": "[encoded data removed]",
            "text/plain": [
              "<Figure size 640x480 with 2 Axes>"
            ]
          },
          "metadata": {},
          "output_type": "display_data"
        },
        {
          "name": "stdout",
          "output_type": "stream",
          "text": [
            " Printing this at the end \n",
            "\n",
            "******** For i = 0.6 ******\n",
            "              precision    recall  f1-score   support\n",
            "\n",
            "           0       0.90      0.99      0.94     11597\n",
            "           1       0.59      0.12      0.19      1515\n",
            "\n",
            "    accuracy                           0.89     13112\n",
            "   macro avg       0.74      0.55      0.57     13112\n",
            "weighted avg       0.86      0.89      0.85     13112\n",
            "\n"
          ]
        },
        {
          "data": {
            "image/png": "[encoded data removed]",
            "text/plain": [
              "<Figure size 640x480 with 2 Axes>"
            ]
          },
          "metadata": {},
          "output_type": "display_data"
        },
        {
          "name": "stdout",
          "output_type": "stream",
          "text": [
            " Printing this at the end \n",
            "\n",
            "******** For i = 0.7 ******\n",
            "              precision    recall  f1-score   support\n",
            "\n",
            "           0       0.89      0.99      0.94     11597\n",
            "           1       0.62      0.09      0.15      1515\n",
            "\n",
            "    accuracy                           0.89     13112\n",
            "   macro avg       0.76      0.54      0.55     13112\n",
            "weighted avg       0.86      0.89      0.85     13112\n",
            "\n"
          ]
        },
        {
          "data": {
            "image/png": "[encoded data removed]",
            "text/plain": [
              "<Figure size 640x480 with 2 Axes>"
            ]
          },
          "metadata": {},
          "output_type": "display_data"
        },
        {
          "name": "stdout",
          "output_type": "stream",
          "text": [
            " Printing this at the end \n",
            "\n",
            "******** For i = 0.8 ******\n",
            "              precision    recall  f1-score   support\n",
            "\n",
            "           0       0.89      1.00      0.94     11597\n",
            "           1       0.62      0.05      0.10      1515\n",
            "\n",
            "    accuracy                           0.89     13112\n",
            "   macro avg       0.75      0.52      0.52     13112\n",
            "weighted avg       0.86      0.89      0.84     13112\n",
            "\n"
          ]
        },
        {
          "data": {
            "image/png": "[encoded data removed]",
            "text/plain": [
              "<Figure size 640x480 with 2 Axes>"
            ]
          },
          "metadata": {},
          "output_type": "display_data"
        },
        {
          "name": "stdout",
          "output_type": "stream",
          "text": [
            " Printing this at the end \n"
          ]
        }
      ],
      "source": [
        "# Use Cut-off value to predict the recall_score and accuracy_score.\n",
        "cutoff_list = [0.2,0.3, 0.4, 0.5, 0.6, 0.7, 0.8]\n",
        "for i in cutoff_list:\n",
        "    print ('\\n******** For i = {} ******'.format(i))\n",
        "    y_pred = pd.DataFrame(np.where(pred_proba_df.iloc[:,1:2] > i, 1, 0))\n",
        "    test_recall_score = metrics.recall_score(y_test, y_pred)\n",
        "    test_acu_score = metrics.roc_auc_score(y_test, y_pred)\n",
        "    test_precision_score = metrics.precision_score(y_test, y_pred)\n",
        "    print(metrics.classification_report(y_test, y_pred))\n",
        "    sns.heatmap((metrics.confusion_matrix(y_test, y_pred)),annot=True,fmt='.5g',cmap='viridis_r')\n",
        "    plt.show()\n",
        "    print(\" Printing this at the end \")"
      ]
    },
    {
      "cell_type": "code",
      "execution_count": null,
      "id": "3954053e",
      "metadata": {
        "id": "3954053e"
      },
      "outputs": [],
      "source": []
    }
  ],
  "metadata": {
    "kernelspec": {
      "display_name": "Python 3 (ipykernel)",
      "language": "python",
      "name": "python3"
    },
    "language_info": {
      "codemirror_mode": {
        "name": "ipython",
        "version": 3
      },
      "file_extension": ".py",
      "mimetype": "text/x-python",
      "name": "python",
      "nbconvert_exporter": "python",
      "pygments_lexer": "ipython3",
      "version": "3.10.9"
    },
    "colab": {
      "provenance": []
    }
  },
  "nbformat": 4,
  "nbformat_minor": 5
}