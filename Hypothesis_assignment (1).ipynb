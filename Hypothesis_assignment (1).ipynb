{
 "cells": [
  {
   "cell_type": "code",
   "execution_count": 12,
   "id": "fd98c7e4",
   "metadata": {},
   "outputs": [],
   "source": [
    "import pandas as pd\n",
    "import numpy as np\n",
    "import scipy\n",
    "from scipy import stats  "
   ]
  },
  {
   "cell_type": "markdown",
   "id": "4e116126",
   "metadata": {},
   "source": [
    "# 1)Cutlets"
   ]
  },
  {
   "cell_type": "markdown",
   "id": "2c1f601c",
   "metadata": {},
   "source": [
    "1) A F&B manager wants to determine whether there is any significant difference in the diameter of the cutlet between two units.\n",
    "    A randomly selected sample of cutlets was collected from both units and measured? Analyze the data and draw inferences at 5%\n",
    "    significance level. Please state the assumptions and tests that you carried out to check validity of the assumptions.\n"
   ]
  },
  {
   "cell_type": "markdown",
   "id": "16a223bf",
   "metadata": {},
   "source": [
    "Null Hypothisis : there is no difference in diameter between UnitA and UnitB.\n",
    "Alternative Hypothisis : there is  difference in diameter between UnitA and UnitB. \n",
    "    \n",
    "    It is two sample t test and alpha = 0.05(significance level)"
   ]
  },
  {
   "cell_type": "code",
   "execution_count": 2,
   "id": "6aa0ca55",
   "metadata": {},
   "outputs": [],
   "source": [
    "data = pd.read_csv(r\"C:\\Users\\Divya\\Desktop\\DS-Assignment\\Hypothesis testing\\Cutlets.csv\")"
   ]
  },
  {
   "cell_type": "code",
   "execution_count": 3,
   "id": "fae3e31b",
   "metadata": {},
   "outputs": [
    {
     "data": {
      "text/html": [
       "<div>\n",
       "<style scoped>\n",
       "    .dataframe tbody tr th:only-of-type {\n",
       "        vertical-align: middle;\n",
       "    }\n",
       "\n",
       "    .dataframe tbody tr th {\n",
       "        vertical-align: top;\n",
       "    }\n",
       "\n",
       "    .dataframe thead th {\n",
       "        text-align: right;\n",
       "    }\n",
       "</style>\n",
       "<table border=\"1\" class=\"dataframe\">\n",
       "  <thead>\n",
       "    <tr style=\"text-align: right;\">\n",
       "      <th></th>\n",
       "      <th>Unit A</th>\n",
       "      <th>Unit B</th>\n",
       "    </tr>\n",
       "  </thead>\n",
       "  <tbody>\n",
       "    <tr>\n",
       "      <th>0</th>\n",
       "      <td>6.8090</td>\n",
       "      <td>6.7703</td>\n",
       "    </tr>\n",
       "    <tr>\n",
       "      <th>1</th>\n",
       "      <td>6.4376</td>\n",
       "      <td>7.5093</td>\n",
       "    </tr>\n",
       "    <tr>\n",
       "      <th>2</th>\n",
       "      <td>6.9157</td>\n",
       "      <td>6.7300</td>\n",
       "    </tr>\n",
       "    <tr>\n",
       "      <th>3</th>\n",
       "      <td>7.3012</td>\n",
       "      <td>6.7878</td>\n",
       "    </tr>\n",
       "    <tr>\n",
       "      <th>4</th>\n",
       "      <td>7.4488</td>\n",
       "      <td>7.1522</td>\n",
       "    </tr>\n",
       "  </tbody>\n",
       "</table>\n",
       "</div>"
      ],
      "text/plain": [
       "   Unit A  Unit B\n",
       "0  6.8090  6.7703\n",
       "1  6.4376  7.5093\n",
       "2  6.9157  6.7300\n",
       "3  7.3012  6.7878\n",
       "4  7.4488  7.1522"
      ]
     },
     "execution_count": 3,
     "metadata": {},
     "output_type": "execute_result"
    }
   ],
   "source": [
    "data.head()"
   ]
  },
  {
   "cell_type": "code",
   "execution_count": 4,
   "id": "1864bcf5",
   "metadata": {},
   "outputs": [
    {
     "name": "stdout",
     "output_type": "stream",
     "text": [
      "<class 'pandas.core.frame.DataFrame'>\n",
      "RangeIndex: 35 entries, 0 to 34\n",
      "Data columns (total 2 columns):\n",
      " #   Column  Non-Null Count  Dtype  \n",
      "---  ------  --------------  -----  \n",
      " 0   Unit A  35 non-null     float64\n",
      " 1   Unit B  35 non-null     float64\n",
      "dtypes: float64(2)\n",
      "memory usage: 688.0 bytes\n"
     ]
    }
   ],
   "source": [
    "data.info()"
   ]
  },
  {
   "cell_type": "code",
   "execution_count": 7,
   "id": "931065cb",
   "metadata": {},
   "outputs": [
    {
     "data": {
      "text/plain": [
       "array([6.809 , 6.4376, 6.9157, 7.3012, 7.4488, 7.3871, 6.8755, 7.0621,\n",
       "       6.684 , 6.8236, 7.393 , 7.5169, 6.9246, 6.9256, 6.5797, 6.8394,\n",
       "       6.597 , 7.2705, 7.2828, 7.3495, 6.9438, 7.156 , 6.5341, 7.2854,\n",
       "       6.9952, 6.8568, 7.2163, 6.6801, 6.9431, 7.0852, 6.7794, 7.2783,\n",
       "       7.1561, 7.3943, 6.9405])"
      ]
     },
     "execution_count": 7,
     "metadata": {},
     "output_type": "execute_result"
    }
   ],
   "source": [
    "data['Unit A'].unique()"
   ]
  },
  {
   "cell_type": "code",
   "execution_count": 8,
   "id": "a5cdfcfe",
   "metadata": {},
   "outputs": [
    {
     "data": {
      "text/plain": [
       "array([6.7703, 7.5093, 6.73  , 6.7878, 7.1522, 6.811 , 7.2212, 6.6606,\n",
       "       7.2402, 7.0503, 6.881 , 7.4059, 6.7652, 6.038 , 7.1581, 7.024 ,\n",
       "       6.6672, 7.4314, 7.307 , 6.7478, 6.8889, 7.422 , 6.5217, 7.1688,\n",
       "       6.7594, 6.9399, 7.0133, 6.9182, 6.3346, 7.5459, 7.0992, 7.118 ,\n",
       "       6.6965, 6.578 , 7.3875])"
      ]
     },
     "execution_count": 8,
     "metadata": {},
     "output_type": "execute_result"
    }
   ],
   "source": [
    "data['Unit B'].unique()"
   ]
  },
  {
   "cell_type": "code",
   "execution_count": 9,
   "id": "02a11114",
   "metadata": {},
   "outputs": [
    {
     "data": {
      "text/plain": [
       "0.08317945374789915"
      ]
     },
     "execution_count": 9,
     "metadata": {},
     "output_type": "execute_result"
    }
   ],
   "source": [
    "data['Unit A'].var()"
   ]
  },
  {
   "cell_type": "code",
   "execution_count": 10,
   "id": "1fd5a0bb",
   "metadata": {},
   "outputs": [
    {
     "data": {
      "text/plain": [
       "0.11792400440336127"
      ]
     },
     "execution_count": 10,
     "metadata": {},
     "output_type": "execute_result"
    }
   ],
   "source": [
    "data['Unit B'].var()"
   ]
  },
  {
   "cell_type": "code",
   "execution_count": 16,
   "id": "8e37114c",
   "metadata": {},
   "outputs": [],
   "source": [
    "a = data['Unit A']\n",
    "b = data['Unit B']"
   ]
  },
  {
   "cell_type": "code",
   "execution_count": 17,
   "id": "9c83eb3c",
   "metadata": {},
   "outputs": [
    {
     "data": {
      "text/plain": [
       "Ttest_indResult(statistic=0.7228688704678063, pvalue=0.47231324819145404)"
      ]
     },
     "execution_count": 17,
     "metadata": {},
     "output_type": "execute_result"
    }
   ],
   "source": [
    "scipy.stats.ttest_ind(a,b,equal_var=False)"
   ]
  },
  {
   "cell_type": "markdown",
   "id": "631f210e",
   "metadata": {},
   "source": [
    "If P low, Null go\n",
    "here p value is high and null stay, i.e. there is no difference in diameter between UnitA and UnitB"
   ]
  },
  {
   "cell_type": "code",
   "execution_count": null,
   "id": "79f94585",
   "metadata": {},
   "outputs": [],
   "source": []
  },
  {
   "cell_type": "markdown",
   "id": "0fbec977",
   "metadata": {},
   "source": [
    "# 2) LabTAT"
   ]
  },
  {
   "cell_type": "markdown",
   "id": "871798bf",
   "metadata": {},
   "source": [
    "A hospital wants to determine whether there is any difference in the average Turn Around Time (TAT) of reports\n",
    "of the laboratories on their preferred list. They collected a random sample and recorded TAT for reports of 4 laboratories.\n",
    "TAT is defined as sample collected to report dispatch.\n",
    "    Analyze the data and determine whether there is any difference in average TAT among the different laboratories \n",
    "    at 5% significance level.\n"
   ]
  },
  {
   "cell_type": "markdown",
   "id": "f85b6663",
   "metadata": {},
   "source": [
    "Null Hypotisis :there is no difference in the average Turn Around Time (TAT)\n",
    "               :L1=L2=L3=L4\n",
    "\n",
    "Alternative Hypothisis : there is any difference in the average Turn Around Time (TAT)\n",
    "                       :atleast there is one difference\n",
    "    \n",
    "    alpha : 0.05"
   ]
  },
  {
   "cell_type": "code",
   "execution_count": 34,
   "id": "110b52b6",
   "metadata": {},
   "outputs": [
    {
     "data": {
      "text/html": [
       "<div>\n",
       "<style scoped>\n",
       "    .dataframe tbody tr th:only-of-type {\n",
       "        vertical-align: middle;\n",
       "    }\n",
       "\n",
       "    .dataframe tbody tr th {\n",
       "        vertical-align: top;\n",
       "    }\n",
       "\n",
       "    .dataframe thead th {\n",
       "        text-align: right;\n",
       "    }\n",
       "</style>\n",
       "<table border=\"1\" class=\"dataframe\">\n",
       "  <thead>\n",
       "    <tr style=\"text-align: right;\">\n",
       "      <th></th>\n",
       "      <th>Laboratory 1</th>\n",
       "      <th>Laboratory 2</th>\n",
       "      <th>Laboratory 3</th>\n",
       "      <th>Laboratory 4</th>\n",
       "    </tr>\n",
       "  </thead>\n",
       "  <tbody>\n",
       "    <tr>\n",
       "      <th>0</th>\n",
       "      <td>185.35</td>\n",
       "      <td>165.53</td>\n",
       "      <td>176.70</td>\n",
       "      <td>166.13</td>\n",
       "    </tr>\n",
       "    <tr>\n",
       "      <th>1</th>\n",
       "      <td>170.49</td>\n",
       "      <td>185.91</td>\n",
       "      <td>198.45</td>\n",
       "      <td>160.79</td>\n",
       "    </tr>\n",
       "    <tr>\n",
       "      <th>2</th>\n",
       "      <td>192.77</td>\n",
       "      <td>194.92</td>\n",
       "      <td>201.23</td>\n",
       "      <td>185.18</td>\n",
       "    </tr>\n",
       "    <tr>\n",
       "      <th>3</th>\n",
       "      <td>177.33</td>\n",
       "      <td>183.00</td>\n",
       "      <td>199.61</td>\n",
       "      <td>176.42</td>\n",
       "    </tr>\n",
       "    <tr>\n",
       "      <th>4</th>\n",
       "      <td>193.41</td>\n",
       "      <td>169.57</td>\n",
       "      <td>204.63</td>\n",
       "      <td>152.60</td>\n",
       "    </tr>\n",
       "  </tbody>\n",
       "</table>\n",
       "</div>"
      ],
      "text/plain": [
       "   Laboratory 1  Laboratory 2  Laboratory 3  Laboratory 4\n",
       "0        185.35        165.53        176.70        166.13\n",
       "1        170.49        185.91        198.45        160.79\n",
       "2        192.77        194.92        201.23        185.18\n",
       "3        177.33        183.00        199.61        176.42\n",
       "4        193.41        169.57        204.63        152.60"
      ]
     },
     "execution_count": 34,
     "metadata": {},
     "output_type": "execute_result"
    }
   ],
   "source": [
    "df = pd.read_csv(r\"C:\\Users\\Divya\\Desktop\\DS-Assignment\\Hypothesis testing\\labTAT.csv\")\n",
    "df.head()"
   ]
  },
  {
   "cell_type": "code",
   "execution_count": 35,
   "id": "35cda048",
   "metadata": {},
   "outputs": [
    {
     "name": "stdout",
     "output_type": "stream",
     "text": [
      "<class 'pandas.core.frame.DataFrame'>\n",
      "RangeIndex: 120 entries, 0 to 119\n",
      "Data columns (total 4 columns):\n",
      " #   Column        Non-Null Count  Dtype  \n",
      "---  ------        --------------  -----  \n",
      " 0   Laboratory 1  120 non-null    float64\n",
      " 1   Laboratory 2  120 non-null    float64\n",
      " 2   Laboratory 3  120 non-null    float64\n",
      " 3   Laboratory 4  120 non-null    float64\n",
      "dtypes: float64(4)\n",
      "memory usage: 3.9 KB\n"
     ]
    }
   ],
   "source": [
    "df.info()"
   ]
  },
  {
   "cell_type": "code",
   "execution_count": 36,
   "id": "bff32a3a",
   "metadata": {},
   "outputs": [
    {
     "data": {
      "text/plain": [
       "173.54356806022412"
      ]
     },
     "execution_count": 36,
     "metadata": {},
     "output_type": "execute_result"
    }
   ],
   "source": [
    "df['Laboratory 1'].var()"
   ]
  },
  {
   "cell_type": "code",
   "execution_count": 37,
   "id": "33ea5c56",
   "metadata": {},
   "outputs": [
    {
     "data": {
      "text/plain": [
       "223.71525108543426"
      ]
     },
     "execution_count": 37,
     "metadata": {},
     "output_type": "execute_result"
    }
   ],
   "source": [
    "df['Laboratory 2'].var()"
   ]
  },
  {
   "cell_type": "code",
   "execution_count": 38,
   "id": "b9fa1253",
   "metadata": {},
   "outputs": [
    {
     "data": {
      "text/plain": [
       "273.53960699579824"
      ]
     },
     "execution_count": 38,
     "metadata": {},
     "output_type": "execute_result"
    }
   ],
   "source": [
    "df['Laboratory 3'].var()"
   ]
  },
  {
   "cell_type": "code",
   "execution_count": 39,
   "id": "7dfccc00",
   "metadata": {},
   "outputs": [
    {
     "data": {
      "text/plain": [
       "227.55963186974788"
      ]
     },
     "execution_count": 39,
     "metadata": {},
     "output_type": "execute_result"
    }
   ],
   "source": [
    "df['Laboratory 4'].var()"
   ]
  },
  {
   "cell_type": "code",
   "execution_count": 59,
   "id": "bb77b43c",
   "metadata": {},
   "outputs": [
    {
     "name": "stdout",
     "output_type": "stream",
     "text": [
      "F-statistic: 118.70421654401437\n",
      "P-value: 2.1156708949992414e-57\n"
     ]
    }
   ],
   "source": [
    "f_statistic,p_value = stats.f_oneway(df['Laboratory 1'],df['Laboratory 2'],df['Laboratory 3'],df['Laboratory 4'])\n",
    "print(\"F-statistic:\", f_statistic)\n",
    "print(\"P-value:\", p_value)"
   ]
  },
  {
   "cell_type": "markdown",
   "id": "440c25be",
   "metadata": {},
   "source": [
    "p high null stay, and there is no difference in the average Turn Around Time"
   ]
  },
  {
   "cell_type": "code",
   "execution_count": null,
   "id": "7a1defa3",
   "metadata": {},
   "outputs": [],
   "source": []
  },
  {
   "cell_type": "markdown",
   "id": "bb655bb9",
   "metadata": {},
   "source": [
    "# 3)Byer ratio"
   ]
  },
  {
   "cell_type": "markdown",
   "id": "2d582e18",
   "metadata": {},
   "source": [
    "Sales of products in four different regions is tabulated for males and females.\n",
    "Find if male-female buyer rations are similar across regions."
   ]
  },
  {
   "cell_type": "markdown",
   "id": "df73cbbc",
   "metadata": {},
   "source": [
    "Ho : all Proportion are equal\n",
    "\n",
    "Ha : all Proportion are not equal    "
   ]
  },
  {
   "cell_type": "code",
   "execution_count": 62,
   "id": "e973638a",
   "metadata": {},
   "outputs": [
    {
     "data": {
      "text/html": [
       "<div>\n",
       "<style scoped>\n",
       "    .dataframe tbody tr th:only-of-type {\n",
       "        vertical-align: middle;\n",
       "    }\n",
       "\n",
       "    .dataframe tbody tr th {\n",
       "        vertical-align: top;\n",
       "    }\n",
       "\n",
       "    .dataframe thead th {\n",
       "        text-align: right;\n",
       "    }\n",
       "</style>\n",
       "<table border=\"1\" class=\"dataframe\">\n",
       "  <thead>\n",
       "    <tr style=\"text-align: right;\">\n",
       "      <th></th>\n",
       "      <th>Observed Values</th>\n",
       "      <th>East</th>\n",
       "      <th>West</th>\n",
       "      <th>North</th>\n",
       "      <th>South</th>\n",
       "    </tr>\n",
       "  </thead>\n",
       "  <tbody>\n",
       "    <tr>\n",
       "      <th>0</th>\n",
       "      <td>Males</td>\n",
       "      <td>50</td>\n",
       "      <td>142</td>\n",
       "      <td>131</td>\n",
       "      <td>70</td>\n",
       "    </tr>\n",
       "    <tr>\n",
       "      <th>1</th>\n",
       "      <td>Females</td>\n",
       "      <td>435</td>\n",
       "      <td>1523</td>\n",
       "      <td>1356</td>\n",
       "      <td>750</td>\n",
       "    </tr>\n",
       "  </tbody>\n",
       "</table>\n",
       "</div>"
      ],
      "text/plain": [
       "  Observed Values  East  West  North  South\n",
       "0           Males    50   142    131     70\n",
       "1         Females   435  1523   1356    750"
      ]
     },
     "execution_count": 62,
     "metadata": {},
     "output_type": "execute_result"
    }
   ],
   "source": [
    "df1 = pd.read_csv(r\"C:\\Users\\Divya\\Desktop\\DS-Assignment\\Hypothesis testing\\BuyerRatio.csv\")\n",
    "df1.head()"
   ]
  },
  {
   "cell_type": "code",
   "execution_count": 64,
   "id": "5a7520b3",
   "metadata": {},
   "outputs": [],
   "source": [
    "Observed_values = np.array([[50,142,131,70],[435,1523,1356,750]])"
   ]
  },
  {
   "cell_type": "code",
   "execution_count": 65,
   "id": "ad872437",
   "metadata": {},
   "outputs": [
    {
     "data": {
      "text/plain": [
       "array([[  50,  142,  131,   70],\n",
       "       [ 435, 1523, 1356,  750]])"
      ]
     },
     "execution_count": 65,
     "metadata": {},
     "output_type": "execute_result"
    }
   ],
   "source": [
    "Observed_values"
   ]
  },
  {
   "cell_type": "code",
   "execution_count": 66,
   "id": "ee423e5a",
   "metadata": {},
   "outputs": [
    {
     "data": {
      "text/plain": [
       "Chi2ContingencyResult(statistic=1.595945538661058, pvalue=0.6603094907091882, dof=3, expected_freq=array([[  42.76531299,  146.81287862,  131.11756787,   72.30424052],\n",
       "       [ 442.23468701, 1518.18712138, 1355.88243213,  747.69575948]]))"
      ]
     },
     "execution_count": 66,
     "metadata": {},
     "output_type": "execute_result"
    }
   ],
   "source": [
    "stats.chi2_contingency(Observed_values)"
   ]
  },
  {
   "cell_type": "markdown",
   "id": "c7e0470b",
   "metadata": {},
   "source": [
    "alpha = 0.05"
   ]
  },
  {
   "cell_type": "markdown",
   "id": "0f025f99",
   "metadata": {},
   "source": [
    "pvalue = 0.66 which is greater than alpha,\n",
    "\n",
    "Ho stays i.e. all proportion are equal"
   ]
  },
  {
   "cell_type": "code",
   "execution_count": null,
   "id": "a7de5518",
   "metadata": {},
   "outputs": [],
   "source": []
  },
  {
   "cell_type": "markdown",
   "id": "d0e87e8d",
   "metadata": {},
   "source": [
    "# 4) CustomerOrderForm."
   ]
  },
  {
   "cell_type": "markdown",
   "id": "e2b76d9a",
   "metadata": {},
   "source": [
    "TeleCall uses 4 centers around the globe to process customer order forms. They audit a certain %  of the customer order forms.\n",
    "Any error in order form renders it defective and has to be reworked before processing.  The manager wants to check whether \n",
    "the defective %  varies by centre. Please analyze the data at 5% significance level and help the manager \n",
    "draw appropriate inferences."
   ]
  },
  {
   "cell_type": "code",
   "execution_count": 127,
   "id": "3a018000",
   "metadata": {},
   "outputs": [
    {
     "data": {
      "text/html": [
       "<div>\n",
       "<style scoped>\n",
       "    .dataframe tbody tr th:only-of-type {\n",
       "        vertical-align: middle;\n",
       "    }\n",
       "\n",
       "    .dataframe tbody tr th {\n",
       "        vertical-align: top;\n",
       "    }\n",
       "\n",
       "    .dataframe thead th {\n",
       "        text-align: right;\n",
       "    }\n",
       "</style>\n",
       "<table border=\"1\" class=\"dataframe\">\n",
       "  <thead>\n",
       "    <tr style=\"text-align: right;\">\n",
       "      <th></th>\n",
       "      <th>Phillippines</th>\n",
       "      <th>Indonesia</th>\n",
       "      <th>Malta</th>\n",
       "      <th>India</th>\n",
       "    </tr>\n",
       "  </thead>\n",
       "  <tbody>\n",
       "    <tr>\n",
       "      <th>0</th>\n",
       "      <td>Error Free</td>\n",
       "      <td>Error Free</td>\n",
       "      <td>Defective</td>\n",
       "      <td>Error Free</td>\n",
       "    </tr>\n",
       "    <tr>\n",
       "      <th>1</th>\n",
       "      <td>Error Free</td>\n",
       "      <td>Error Free</td>\n",
       "      <td>Error Free</td>\n",
       "      <td>Defective</td>\n",
       "    </tr>\n",
       "    <tr>\n",
       "      <th>2</th>\n",
       "      <td>Error Free</td>\n",
       "      <td>Defective</td>\n",
       "      <td>Defective</td>\n",
       "      <td>Error Free</td>\n",
       "    </tr>\n",
       "    <tr>\n",
       "      <th>3</th>\n",
       "      <td>Error Free</td>\n",
       "      <td>Error Free</td>\n",
       "      <td>Error Free</td>\n",
       "      <td>Error Free</td>\n",
       "    </tr>\n",
       "    <tr>\n",
       "      <th>4</th>\n",
       "      <td>Error Free</td>\n",
       "      <td>Error Free</td>\n",
       "      <td>Defective</td>\n",
       "      <td>Error Free</td>\n",
       "    </tr>\n",
       "  </tbody>\n",
       "</table>\n",
       "</div>"
      ],
      "text/plain": [
       "  Phillippines   Indonesia       Malta       India\n",
       "0   Error Free  Error Free   Defective  Error Free\n",
       "1   Error Free  Error Free  Error Free   Defective\n",
       "2   Error Free   Defective   Defective  Error Free\n",
       "3   Error Free  Error Free  Error Free  Error Free\n",
       "4   Error Free  Error Free   Defective  Error Free"
      ]
     },
     "execution_count": 127,
     "metadata": {},
     "output_type": "execute_result"
    }
   ],
   "source": [
    "df2 = pd.read_csv(r\"C:\\Users\\Divya\\Desktop\\DS-Assignment\\Hypothesis testing\\Costomer+OrderForm.csv\")\n",
    "df2.head()"
   ]
  },
  {
   "cell_type": "markdown",
   "id": "018c0c84",
   "metadata": {},
   "source": [
    "Ho :  there is no variation in defective %  by centre.\n",
    "    \n",
    "Ha :   there is  variation in defective %  by centre.  \n",
    "    "
   ]
  },
  {
   "cell_type": "code",
   "execution_count": 128,
   "id": "8c9bdf6f",
   "metadata": {},
   "outputs": [
    {
     "name": "stdout",
     "output_type": "stream",
     "text": [
      "<class 'pandas.core.frame.DataFrame'>\n",
      "RangeIndex: 300 entries, 0 to 299\n",
      "Data columns (total 4 columns):\n",
      " #   Column        Non-Null Count  Dtype \n",
      "---  ------        --------------  ----- \n",
      " 0   Phillippines  300 non-null    object\n",
      " 1   Indonesia     300 non-null    object\n",
      " 2   Malta         300 non-null    object\n",
      " 3   India         300 non-null    object\n",
      "dtypes: object(4)\n",
      "memory usage: 9.5+ KB\n"
     ]
    }
   ],
   "source": [
    "df2.info()"
   ]
  },
  {
   "cell_type": "code",
   "execution_count": 129,
   "id": "c7090f59",
   "metadata": {},
   "outputs": [
    {
     "data": {
      "text/plain": [
       "array(['Error Free', 'Defective'], dtype=object)"
      ]
     },
     "execution_count": 129,
     "metadata": {},
     "output_type": "execute_result"
    }
   ],
   "source": [
    "df2['Phillippines'].unique()"
   ]
  },
  {
   "cell_type": "code",
   "execution_count": 130,
   "id": "3d29e47e",
   "metadata": {},
   "outputs": [
    {
     "data": {
      "text/plain": [
       "array(['Error Free', 'Defective'], dtype=object)"
      ]
     },
     "execution_count": 130,
     "metadata": {},
     "output_type": "execute_result"
    }
   ],
   "source": [
    "df2['Indonesia'].unique()"
   ]
  },
  {
   "cell_type": "code",
   "execution_count": 132,
   "id": "636a7791",
   "metadata": {},
   "outputs": [
    {
     "data": {
      "text/plain": [
       "Error Free    271\n",
       "Defective      29\n",
       "Name: Phillippines, dtype: int64"
      ]
     },
     "execution_count": 132,
     "metadata": {},
     "output_type": "execute_result"
    }
   ],
   "source": [
    "df2['Phillippines'].value_counts()"
   ]
  },
  {
   "cell_type": "code",
   "execution_count": 133,
   "id": "912291e7",
   "metadata": {},
   "outputs": [
    {
     "data": {
      "text/plain": [
       "Error Free    267\n",
       "Defective      33\n",
       "Name: Indonesia, dtype: int64"
      ]
     },
     "execution_count": 133,
     "metadata": {},
     "output_type": "execute_result"
    }
   ],
   "source": [
    "df2['Indonesia'].value_counts()"
   ]
  },
  {
   "cell_type": "code",
   "execution_count": 134,
   "id": "70091336",
   "metadata": {},
   "outputs": [
    {
     "data": {
      "text/plain": [
       "Error Free    269\n",
       "Defective      31\n",
       "Name: Malta, dtype: int64"
      ]
     },
     "execution_count": 134,
     "metadata": {},
     "output_type": "execute_result"
    }
   ],
   "source": [
    "df2['Malta'].value_counts()"
   ]
  },
  {
   "cell_type": "code",
   "execution_count": 135,
   "id": "2baeae7f",
   "metadata": {},
   "outputs": [
    {
     "data": {
      "text/plain": [
       "Error Free    280\n",
       "Defective      20\n",
       "Name: India, dtype: int64"
      ]
     },
     "execution_count": 135,
     "metadata": {},
     "output_type": "execute_result"
    }
   ],
   "source": [
    "df2['India'].value_counts()"
   ]
  },
  {
   "cell_type": "code",
   "execution_count": 136,
   "id": "e54bc4af",
   "metadata": {},
   "outputs": [
    {
     "data": {
      "text/plain": [
       "array([[271,  29],\n",
       "       [267,  33],\n",
       "       [269,  31],\n",
       "       [280,  20]])"
      ]
     },
     "execution_count": 136,
     "metadata": {},
     "output_type": "execute_result"
    }
   ],
   "source": [
    "df2_details = np.array([[271,29],[267,33],[269,31],[280,20]])\n",
    "df2_details"
   ]
  },
  {
   "cell_type": "code",
   "execution_count": 137,
   "id": "19263615",
   "metadata": {},
   "outputs": [
    {
     "data": {
      "text/plain": [
       "Chi2ContingencyResult(statistic=3.8589606858203545, pvalue=0.2771020991233144, dof=3, expected_freq=array([[271.75,  28.25],\n",
       "       [271.75,  28.25],\n",
       "       [271.75,  28.25],\n",
       "       [271.75,  28.25]]))"
      ]
     },
     "execution_count": 137,
     "metadata": {},
     "output_type": "execute_result"
    }
   ],
   "source": [
    "stats.chi2_contingency(df2_details)"
   ]
  },
  {
   "cell_type": "code",
   "execution_count": 139,
   "id": "0fe6cb91",
   "metadata": {},
   "outputs": [
    {
     "name": "stdout",
     "output_type": "stream",
     "text": [
      "Chi-squared statistic: 3.8589606858203545\n",
      "P-value: 0.2771020991233144\n"
     ]
    }
   ],
   "source": [
    "chi2, p, dof, expected = stats.chi2_contingency(df2_details)\n",
    "print(\"Chi-squared statistic:\", chi2)\n",
    "print(\"P-value:\", p)"
   ]
  },
  {
   "cell_type": "markdown",
   "id": "a57c0a19",
   "metadata": {},
   "source": [
    "alpha = 0.05 \n",
    "\n",
    "p_value is greater than alpha.hence Null stay i.e.there is no variation in defective % by centre. "
   ]
  },
  {
   "cell_type": "code",
   "execution_count": null,
   "id": "99b2d437",
   "metadata": {},
   "outputs": [],
   "source": []
  }
 ],
 "metadata": {
  "kernelspec": {
   "display_name": "Python 3 (ipykernel)",
   "language": "python",
   "name": "python3"
  },
  "language_info": {
   "codemirror_mode": {
    "name": "ipython",
    "version": 3
   },
   "file_extension": ".py",
   "mimetype": "text/x-python",
   "name": "python",
   "nbconvert_exporter": "python",
   "pygments_lexer": "ipython3",
   "version": "3.10.9"
  }
 },
 "nbformat": 4,
 "nbformat_minor": 5
}
